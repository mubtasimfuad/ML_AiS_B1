{
  "nbformat": 4,
  "nbformat_minor": 0,
  "metadata": {
    "colab": {
      "name": "visualizing_with_seaborn.ipynb",
      "provenance": [],
      "collapsed_sections": []
    },
    "kernelspec": {
      "name": "python3",
      "display_name": "Python 3"
    },
    "language_info": {
      "name": "python"
    }
  },
  "cells": [
    {
      "cell_type": "markdown",
      "metadata": {
        "id": "fzXkzRVLSAcZ"
      },
      "source": [
        "#Seaborn\n",
        "- Built on Matplotlib\n",
        "- Forms cool visualizations with less coding"
      ]
    },
    {
      "cell_type": "code",
      "metadata": {
        "id": "JFUOlR8yJYrD"
      },
      "source": [
        "# Notebook Magic Line\n",
        "# create visualizations in the notebook itself\n",
        "%matplotlib inline "
      ],
      "execution_count": 1,
      "outputs": []
    },
    {
      "cell_type": "code",
      "metadata": {
        "id": "RoBFtDFVJfzg"
      },
      "source": [
        "import pandas as pd\n",
        "import numpy as np\n",
        "\n",
        "import matplotlib.pyplot as plt\n",
        "import seaborn as sns"
      ],
      "execution_count": 2,
      "outputs": []
    },
    {
      "cell_type": "code",
      "metadata": {
        "id": "FRDIxQAGR9GL"
      },
      "source": [
        "sns.set()\n",
        "sns.set(style='darkgrid') # play around with other styles"
      ],
      "execution_count": 3,
      "outputs": []
    },
    {
      "cell_type": "code",
      "metadata": {
        "colab": {
          "base_uri": "https://localhost:8080/"
        },
        "id": "HIoAvEdlXc6a",
        "outputId": "7af63512-a491-40dc-fcb2-ba74cf44501e"
      },
      "source": [
        "from google.colab import drive\n",
        "drive.mount('/content/drive')"
      ],
      "execution_count": 4,
      "outputs": [
        {
          "output_type": "stream",
          "text": [
            "Mounted at /content/drive\n"
          ],
          "name": "stdout"
        }
      ]
    },
    {
      "cell_type": "code",
      "metadata": {
        "id": "UZap_772XgJB"
      },
      "source": [
        "df = pd.read_csv(\"/content/drive/My Drive/Colab Notebooks/PA Projects/ML Class/Week 4/Top_AI_scientists_cleaned.csv\")\n",
        "df"
      ],
      "execution_count": null,
      "outputs": []
    },
    {
      "cell_type": "markdown",
      "metadata": {
        "id": "GxmaBKNwXcFa"
      },
      "source": [
        "# Basic Plots"
      ]
    },
    {
      "cell_type": "markdown",
      "metadata": {
        "id": "fYlde6pPYRFy"
      },
      "source": [
        "## Line Chart"
      ]
    },
    {
      "cell_type": "code",
      "metadata": {
        "id": "9McLBzk9YGTs"
      },
      "source": [
        "plt.rcParams[\"figure.figsize\"] = plt.rcParamsDefault[\"figure.figsize\"]"
      ],
      "execution_count": 7,
      "outputs": []
    },
    {
      "cell_type": "code",
      "metadata": {
        "id": "H9LvucgZX1gS"
      },
      "source": [
        "plt.rcParams[\"figure.figsize\"] = (15,5)\n",
        "sns.lineplot(x=\"World Rank\", y=\"#DBLP\",data=df)"
      ],
      "execution_count": null,
      "outputs": []
    },
    {
      "cell_type": "markdown",
      "metadata": {
        "id": "djiC0H1fYTaE"
      },
      "source": [
        "## Bar Plot"
      ]
    },
    {
      "cell_type": "code",
      "metadata": {
        "id": "e6gp4kwkYQTy"
      },
      "source": [
        "plt.rcParams[\"figure.figsize\"] = (20,10)\n",
        "country_cnt = df['Country'].value_counts().to_dict()\n",
        "countries = list(country_cnt.keys())\n",
        "cnt = list(country_cnt.values())\n",
        "ax = sns.barplot(x=countries,y=cnt)\n",
        "ax.set_title(\"Country Presence\")\n",
        "ax.set_xticklabels(ax.get_xticklabels(), rotation=90);"
      ],
      "execution_count": null,
      "outputs": []
    },
    {
      "cell_type": "markdown",
      "metadata": {
        "id": "ak2s-kuKaLvL"
      },
      "source": [
        "## Histogram"
      ]
    },
    {
      "cell_type": "code",
      "metadata": {
        "id": "Yz978p_NaIOl"
      },
      "source": [
        "sns.histplot(df['#DBLP'],kde=True)"
      ],
      "execution_count": null,
      "outputs": []
    },
    {
      "cell_type": "markdown",
      "metadata": {
        "id": "24QPZp8OcGNk"
      },
      "source": [
        "## Boxplot"
      ]
    },
    {
      "cell_type": "code",
      "metadata": {
        "id": "_WSHRhhwbnq1"
      },
      "source": [
        "sns.boxplot(data=df['#DBLP']);"
      ],
      "execution_count": null,
      "outputs": []
    },
    {
      "cell_type": "markdown",
      "metadata": {
        "id": "UbTdEQFWcty8"
      },
      "source": [
        "Multiple Boxplots"
      ]
    },
    {
      "cell_type": "code",
      "metadata": {
        "id": "1DdMo1QSclYv"
      },
      "source": [
        "sns.boxplot(data=df[['#DBLP','H-index']],orient='horizontal');"
      ],
      "execution_count": null,
      "outputs": []
    },
    {
      "cell_type": "markdown",
      "metadata": {
        "id": "ecY9iFCwcwcm"
      },
      "source": [
        "## Violin Plot"
      ]
    },
    {
      "cell_type": "code",
      "metadata": {
        "id": "X7TfV9hBc8ez"
      },
      "source": [
        "sns.violinplot(data=df[['#DBLP','H-index']])"
      ],
      "execution_count": null,
      "outputs": []
    },
    {
      "cell_type": "markdown",
      "metadata": {
        "id": "I-t1YDCKdXxr"
      },
      "source": [
        "## Scatter Plots"
      ]
    },
    {
      "cell_type": "code",
      "metadata": {
        "id": "tmUMhMSSdaUL"
      },
      "source": [
        "sns.relplot(x=\"#DBLP\",y=\"World Rank\",data=df[:200],kind='scatter',height=10,aspect=2);"
      ],
      "execution_count": null,
      "outputs": []
    },
    {
      "cell_type": "code",
      "metadata": {
        "id": "9zBnIzSpd3UE"
      },
      "source": [
        "sns.relplot(x=\"Citations\",y=\"World Rank\",data=df[:200],kind='scatter',height=10,aspect=2);"
      ],
      "execution_count": null,
      "outputs": []
    },
    {
      "cell_type": "code",
      "metadata": {
        "id": "xNguWkE4eIWr"
      },
      "source": [
        "sns.relplot(x=\"Citations\",y=\"#DBLP\",hue=\"Country\",data=df[:200],height=10,aspect=2);"
      ],
      "execution_count": null,
      "outputs": []
    },
    {
      "cell_type": "markdown",
      "metadata": {
        "id": "Sk9SciPkd7qs"
      },
      "source": [
        "## Bubble Plot"
      ]
    },
    {
      "cell_type": "code",
      "metadata": {
        "id": "uMPEi_SWfRco"
      },
      "source": [
        "sns.relplot(x=\"Citations\",y=\"#DBLP\",data=df[:200],height=10,aspect=2,size=\"World Rank\",hue=\"Country\");"
      ],
      "execution_count": null,
      "outputs": []
    },
    {
      "cell_type": "markdown",
      "metadata": {
        "id": "UXjfquP2hIz3"
      },
      "source": [
        "## Subplots"
      ]
    },
    {
      "cell_type": "code",
      "metadata": {
        "id": "LkoxVHXAf5sW"
      },
      "source": [
        "sns.relplot(x=\"Citations\",y=\"#DBLP\",hue=\"World Rank\",col=\"Country\",col_wrap=2,data=df[:200],height=10,aspect=2,size=\"World Rank\");"
      ],
      "execution_count": null,
      "outputs": []
    },
    {
      "cell_type": "markdown",
      "metadata": {
        "id": "vykhGRkbiNyg"
      },
      "source": [
        "# Advanced Plots"
      ]
    },
    {
      "cell_type": "markdown",
      "metadata": {
        "id": "5zqAmZa8iRld"
      },
      "source": [
        "## Categorical Scatter Plots"
      ]
    },
    {
      "cell_type": "markdown",
      "metadata": {
        "id": "nOvZ8hIwjfxq"
      },
      "source": [
        "### Strip Plot"
      ]
    },
    {
      "cell_type": "code",
      "metadata": {
        "id": "orjEc3hyiVxm"
      },
      "source": [
        "sns.catplot(x=\"#DBLP\",y=\"Country\",kind='strip',data=df[:200],height=10,aspect=2);"
      ],
      "execution_count": null,
      "outputs": []
    },
    {
      "cell_type": "markdown",
      "metadata": {
        "id": "3tzgsrMDjjU-"
      },
      "source": [
        "### Swarm Plot"
      ]
    },
    {
      "cell_type": "code",
      "metadata": {
        "id": "U4FqHV3ojCZ3"
      },
      "source": [
        "sns.catplot(x=\"#DBLP\",y=\"Country\",kind='swarm',data=df[:200],height=10,aspect=2);"
      ],
      "execution_count": null,
      "outputs": []
    },
    {
      "cell_type": "markdown",
      "metadata": {
        "id": "plQXQW6Rjwe2"
      },
      "source": [
        "## Categorical Distribution Plots"
      ]
    },
    {
      "cell_type": "markdown",
      "metadata": {
        "id": "nribQU0Sj_6W"
      },
      "source": [
        "### Box Plot"
      ]
    },
    {
      "cell_type": "code",
      "metadata": {
        "id": "hZYLksqQj8_t"
      },
      "source": [
        "sns.catplot(x=\"Citations\",y=\"Country\",kind='box',data=df,height=10,aspect=2);"
      ],
      "execution_count": null,
      "outputs": []
    },
    {
      "cell_type": "markdown",
      "metadata": {
        "id": "hD3DcKMxkhVf"
      },
      "source": [
        "### Violin Plot"
      ]
    },
    {
      "cell_type": "code",
      "metadata": {
        "id": "6v9LXOqnkk3v"
      },
      "source": [
        "sns.catplot(x=\"H-index\",y=\"Country\",kind='violin',data=df,height=10,aspect=2);"
      ],
      "execution_count": null,
      "outputs": []
    },
    {
      "cell_type": "markdown",
      "metadata": {
        "id": "SJ1vwBROj5FO"
      },
      "source": [
        "## Categorical Estimate Plots"
      ]
    },
    {
      "cell_type": "markdown",
      "metadata": {
        "id": "DLE90e6jlIBR"
      },
      "source": [
        "### Bar Plot"
      ]
    },
    {
      "cell_type": "code",
      "metadata": {
        "id": "lskS_Vr0j-S-"
      },
      "source": [
        "sns.catplot(x=\"#DBLP\",y=\"Country\",kind='bar',data=df,height=10,aspect=2);"
      ],
      "execution_count": null,
      "outputs": []
    },
    {
      "cell_type": "markdown",
      "metadata": {
        "id": "nZo_V085lngi"
      },
      "source": [
        "## Density Plot\n",
        "KDE Plot - Kernel density estimate plots"
      ]
    },
    {
      "cell_type": "code",
      "metadata": {
        "id": "0_WCxMHNmizJ"
      },
      "source": [
        "plt.rcParams[\"figure.figsize\"] = (10,5)\n",
        "sns.kdeplot(data=df['#DBLP'],shade=True);"
      ],
      "execution_count": null,
      "outputs": []
    },
    {
      "cell_type": "code",
      "metadata": {
        "id": "-rVv8E0jmlCS"
      },
      "source": [
        "plt.rcParams[\"figure.figsize\"] = (10,5)\n",
        "sns.kdeplot(data=df['Citations'],shade=True);"
      ],
      "execution_count": null,
      "outputs": []
    },
    {
      "cell_type": "code",
      "metadata": {
        "id": "ZFGCQuRAlqK3"
      },
      "source": [
        "plt.rcParams[\"figure.figsize\"] = (10,5)\n",
        "sns.kdeplot(data=df['#DBLP'],data2=df['Citations'],shade=True);"
      ],
      "execution_count": null,
      "outputs": []
    },
    {
      "cell_type": "markdown",
      "metadata": {
        "id": "ttL6vg2LnC4Y"
      },
      "source": [
        "## Pair Plots\n",
        "can visualize multidimensional relationships"
      ]
    },
    {
      "cell_type": "code",
      "metadata": {
        "id": "CseNyQg9nEkq"
      },
      "source": [
        "data = df[['#DBLP','Citations','H-index','Country','World Rank']]\n",
        "data.head()"
      ],
      "execution_count": null,
      "outputs": []
    },
    {
      "cell_type": "code",
      "metadata": {
        "id": "OaglPmNinlm5"
      },
      "source": [
        "sns.pairplot(data,hue='Country', height=5);"
      ],
      "execution_count": null,
      "outputs": []
    }
  ]
}