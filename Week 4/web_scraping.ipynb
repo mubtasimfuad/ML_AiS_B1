{
  "nbformat": 4,
  "nbformat_minor": 0,
  "metadata": {
    "colab": {
      "name": "web_scraping.ipynb",
      "provenance": []
    },
    "kernelspec": {
      "name": "python3",
      "display_name": "Python 3"
    },
    "language_info": {
      "name": "python"
    }
  },
  "cells": [
    {
      "cell_type": "markdown",
      "metadata": {
        "id": "JJgb6QsucMxD"
      },
      "source": [
        "Suppose we want to analyze or visualize the data that are already in web. <br/>\n",
        "We can use web scraping techniques for this. <br/>\n",
        "Here we will learn to scrape some details about top AI scientists in the world (07/06/2021) <br/>\n",
        "Our source of information: https://www.guide2research.com/scientists/artificial_intelligence "
      ]
    },
    {
      "cell_type": "markdown",
      "metadata": {
        "id": "fUxFA4mXc9F2"
      },
      "source": [
        "We will be using **Beautiful Soup** and **Requests** library for this task. Let's dive in."
      ]
    },
    {
      "cell_type": "code",
      "metadata": {
        "id": "G2FR3vnYcIk4"
      },
      "source": [
        "# Importing Libraries\n",
        "\n",
        "import requests\n",
        "import bs4\n",
        "import pandas as pd"
      ],
      "execution_count": 60,
      "outputs": []
    },
    {
      "cell_type": "code",
      "metadata": {
        "id": "vNycNBYnec1V"
      },
      "source": [
        "url = 'https://www.guide2research.com/scientists/artificial_intelligence'"
      ],
      "execution_count": null,
      "outputs": []
    },
    {
      "cell_type": "code",
      "metadata": {
        "id": "eg0ArZgUDLmp"
      },
      "source": [
        "web_page = bs4.BeautifulSoup(requests.get(url, {}).text,\"lxml\")"
      ],
      "execution_count": null,
      "outputs": []
    },
    {
      "cell_type": "code",
      "metadata": {
        "id": "P53Z5oUYFfsm"
      },
      "source": [
        "columns = [\"National Rank\",\"World Rank\",\"Image URLs\",\"Name\",\"Affiliation\",\"Country\",\"#DBLP\",\"Citations\",\"H-index\"]"
      ],
      "execution_count": 16,
      "outputs": []
    },
    {
      "cell_type": "code",
      "metadata": {
        "id": "eO-bdrVGGF58"
      },
      "source": [
        "tables = web_page.find_all(name=\"table\") [1:-3]"
      ],
      "execution_count": 26,
      "outputs": []
    },
    {
      "cell_type": "code",
      "metadata": {
        "id": "57kPgXh5InXg"
      },
      "source": [
        "table_list = []\n",
        "\n",
        "for table in tables:\n",
        "\n",
        "  temp_list = []\n",
        "\n",
        "  info = table.find_all(name=\"td\")\n",
        "  for idx,data in enumerate(info):\n",
        "\n",
        "    if idx == 2 : temp_list.append(data.find(name=\"div\").img[\"src\"])\n",
        "    \n",
        "    elif idx == 3 : \n",
        "      temp_list.append(data.find(name=\"h3\").text)\n",
        "      details = [x.text for x in data.find_all(name=\"b\") ]\n",
        "      temp_list.extend(details)\n",
        "    \n",
        "    else:  temp_list.append(data.text[2:-2])\n",
        "\n",
        "  table_dict = {columns[idx] : temp_list[idx] for idx,val in enumerate(temp_list) }\n",
        "\n",
        "  table_list.append(table_dict)"
      ],
      "execution_count": 58,
      "outputs": []
    },
    {
      "cell_type": "code",
      "metadata": {
        "colab": {
          "base_uri": "https://localhost:8080/",
          "height": 419
        },
        "id": "wffuGWgSQie2",
        "outputId": "ffa2eb20-b1d8-4301-b672-a1e96029431d"
      },
      "source": [
        "df = pd.DataFrame(data=table_list,columns=columns)\n",
        "df"
      ],
      "execution_count": 61,
      "outputs": [
        {
          "output_type": "execute_result",
          "data": {
            "text/html": [
              "<div>\n",
              "<style scoped>\n",
              "    .dataframe tbody tr th:only-of-type {\n",
              "        vertical-align: middle;\n",
              "    }\n",
              "\n",
              "    .dataframe tbody tr th {\n",
              "        vertical-align: top;\n",
              "    }\n",
              "\n",
              "    .dataframe thead th {\n",
              "        text-align: right;\n",
              "    }\n",
              "</style>\n",
              "<table border=\"1\" class=\"dataframe\">\n",
              "  <thead>\n",
              "    <tr style=\"text-align: right;\">\n",
              "      <th></th>\n",
              "      <th>National Rank</th>\n",
              "      <th>World Rank</th>\n",
              "      <th>Image URLs</th>\n",
              "      <th>Name</th>\n",
              "      <th>Affiliation</th>\n",
              "      <th>Country</th>\n",
              "      <th>#DBLP</th>\n",
              "      <th>Citations</th>\n",
              "      <th>H-index</th>\n",
              "    </tr>\n",
              "  </thead>\n",
              "  <tbody>\n",
              "    <tr>\n",
              "      <th>0</th>\n",
              "      <td>1</td>\n",
              "      <td>1</td>\n",
              "      <td>https://guide2research.com/img/av/u/anil-k-jai...</td>\n",
              "      <td>Anil K. Jain</td>\n",
              "      <td>Michigan State University</td>\n",
              "      <td>United States</td>\n",
              "      <td>767</td>\n",
              "      <td>224,608</td>\n",
              "      <td>197</td>\n",
              "    </tr>\n",
              "    <tr>\n",
              "      <th>1</th>\n",
              "      <td>2</td>\n",
              "      <td>2</td>\n",
              "      <td>https://guide2research.com/img/av/u/herbert-si...</td>\n",
              "      <td>Herbert Simon</td>\n",
              "      <td>Carnegie Mellon University</td>\n",
              "      <td>United States</td>\n",
              "      <td>85</td>\n",
              "      <td>403,071</td>\n",
              "      <td>185</td>\n",
              "    </tr>\n",
              "    <tr>\n",
              "      <th>2</th>\n",
              "      <td>1</td>\n",
              "      <td>3</td>\n",
              "      <td>https://guide2research.com/img/av/u/yoshua-ben...</td>\n",
              "      <td>Yoshua Bengio</td>\n",
              "      <td>University of Montreal</td>\n",
              "      <td>Canada</td>\n",
              "      <td>818</td>\n",
              "      <td>404,800</td>\n",
              "      <td>184</td>\n",
              "    </tr>\n",
              "    <tr>\n",
              "      <th>3</th>\n",
              "      <td>3</td>\n",
              "      <td>4</td>\n",
              "      <td>https://guide2research.com/img/av/u/jiawei-han...</td>\n",
              "      <td>Jiawei Han</td>\n",
              "      <td>University of Illinois at Urbana-Champaign</td>\n",
              "      <td>United States</td>\n",
              "      <td>1,060</td>\n",
              "      <td>156,845</td>\n",
              "      <td>182</td>\n",
              "    </tr>\n",
              "    <tr>\n",
              "      <th>4</th>\n",
              "      <td>4</td>\n",
              "      <td>5</td>\n",
              "      <td>https://guide2research.com/img/av/u/michael-i-...</td>\n",
              "      <td>Michael I. Jordan</td>\n",
              "      <td>University of California, Berkeley</td>\n",
              "      <td>United States</td>\n",
              "      <td>636</td>\n",
              "      <td>211,810</td>\n",
              "      <td>180</td>\n",
              "    </tr>\n",
              "    <tr>\n",
              "      <th>...</th>\n",
              "      <td>...</td>\n",
              "      <td>...</td>\n",
              "      <td>...</td>\n",
              "      <td>...</td>\n",
              "      <td>...</td>\n",
              "      <td>...</td>\n",
              "      <td>...</td>\n",
              "      <td>...</td>\n",
              "      <td>...</td>\n",
              "    </tr>\n",
              "    <tr>\n",
              "      <th>95</th>\n",
              "      <td>65</td>\n",
              "      <td>96</td>\n",
              "      <td>https://guide2research.com/img/av/u/dan-boneh.jpg</td>\n",
              "      <td>Dan Boneh</td>\n",
              "      <td>Stanford University</td>\n",
              "      <td>United States</td>\n",
              "      <td>348</td>\n",
              "      <td>89,761</td>\n",
              "      <td>119</td>\n",
              "    </tr>\n",
              "    <tr>\n",
              "      <th>96</th>\n",
              "      <td>5</td>\n",
              "      <td>97</td>\n",
              "      <td>https://guide2research.com/img/av/u/witold-ped...</td>\n",
              "      <td>Witold Pedrycz</td>\n",
              "      <td>University of Alberta</td>\n",
              "      <td>Canada</td>\n",
              "      <td>1,120</td>\n",
              "      <td>76,837</td>\n",
              "      <td>119</td>\n",
              "    </tr>\n",
              "    <tr>\n",
              "      <th>97</th>\n",
              "      <td>4</td>\n",
              "      <td>98</td>\n",
              "      <td>https://guide2research.com/img/av/u/xiaogang-w...</td>\n",
              "      <td>Xiaogang Wang</td>\n",
              "      <td>The Chinese University of Hong Kong</td>\n",
              "      <td>Hong Kong</td>\n",
              "      <td>168</td>\n",
              "      <td>64,526</td>\n",
              "      <td>119</td>\n",
              "    </tr>\n",
              "    <tr>\n",
              "      <th>98</th>\n",
              "      <td>1</td>\n",
              "      <td>99</td>\n",
              "      <td>https://guide2research.com/img/av/u/athanasios...</td>\n",
              "      <td>ATHANASIOS VASILAKOS</td>\n",
              "      <td>Luleå University of Technology</td>\n",
              "      <td>Sweden</td>\n",
              "      <td>685</td>\n",
              "      <td>49,784</td>\n",
              "      <td>119</td>\n",
              "    </tr>\n",
              "    <tr>\n",
              "      <th>99</th>\n",
              "      <td>66</td>\n",
              "      <td>100</td>\n",
              "      <td>https://guide2research.com/img/av/u/a-s-szalay...</td>\n",
              "      <td>A. S. Szalay</td>\n",
              "      <td>Johns Hopkins University</td>\n",
              "      <td>United States</td>\n",
              "      <td>147</td>\n",
              "      <td>99,160</td>\n",
              "      <td>118</td>\n",
              "    </tr>\n",
              "  </tbody>\n",
              "</table>\n",
              "<p>100 rows × 9 columns</p>\n",
              "</div>"
            ],
            "text/plain": [
              "   National Rank World Rank  ... Citations H-index\n",
              "0              1          1  ...   224,608     197\n",
              "1              2          2  ...   403,071     185\n",
              "2              1          3  ...   404,800     184\n",
              "3              3          4  ...   156,845     182\n",
              "4              4          5  ...   211,810     180\n",
              "..           ...        ...  ...       ...     ...\n",
              "95            65         96  ...    89,761     119\n",
              "96             5         97  ...    76,837     119\n",
              "97             4         98  ...    64,526     119\n",
              "98             1         99  ...    49,784     119\n",
              "99            66        100  ...    99,160     118\n",
              "\n",
              "[100 rows x 9 columns]"
            ]
          },
          "metadata": {
            "tags": []
          },
          "execution_count": 61
        }
      ]
    }
  ]
}