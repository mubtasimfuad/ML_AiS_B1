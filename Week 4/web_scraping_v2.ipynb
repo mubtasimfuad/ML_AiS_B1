{
  "nbformat": 4,
  "nbformat_minor": 0,
  "metadata": {
    "colab": {
      "name": "web_scraping.ipynb",
      "provenance": []
    },
    "kernelspec": {
      "name": "python3",
      "display_name": "Python 3"
    },
    "language_info": {
      "name": "python"
    }
  },
  "cells": [
    {
      "cell_type": "markdown",
      "metadata": {
        "id": "JJgb6QsucMxD"
      },
      "source": [
        "Suppose we want to analyze or visualize the data that are already in web. <br/>\n",
        "We can use web scraping techniques for this. <br/>\n",
        "Here we will learn to scrape some details about top AI scientists in the world (07/06/2021) <br/>\n",
        "Our source of information: https://www.guide2research.com/scientists/artificial_intelligence "
      ]
    },
    {
      "cell_type": "markdown",
      "metadata": {
        "id": "fUxFA4mXc9F2"
      },
      "source": [
        "We will be using **Beautiful Soup** and **Requests** library for this task. Let's dive in."
      ]
    },
    {
      "cell_type": "code",
      "metadata": {
        "id": "G2FR3vnYcIk4"
      },
      "source": [
        "# Importing Libraries\n",
        "\n",
        "import requests\n",
        "import bs4\n",
        "import pandas as pd"
      ],
      "execution_count": null,
      "outputs": []
    },
    {
      "cell_type": "code",
      "metadata": {
        "id": "vNycNBYnec1V"
      },
      "source": [
        "columns = [\"National Rank\",\"World Rank\",\"Image URLs\",\"Name\",\"Affiliation\",\"Country\",\"#DBLP\",\"Citations\",\"H-index\"]\n",
        "table_list = []\n",
        "\n",
        "for page in range(10):\n",
        "  url = 'https://www.guide2research.com/scientists/artificial_intelligence/page-'+str(page+1)\n",
        "  web_page = bs4.BeautifulSoup(requests.get(url, {}).text,\"lxml\")\n",
        "  tables = web_page.find_all(name=\"table\") [1:-3]\n",
        "\n",
        "  for table in tables:\n",
        "\n",
        "    temp_list = []\n",
        "\n",
        "    info = table.find_all(name=\"td\")\n",
        "    for idx,data in enumerate(info):\n",
        "\n",
        "      if idx == 2 : temp_list.append(data.find(name=\"div\").img[\"src\"])\n",
        "      \n",
        "      elif idx == 3 : \n",
        "        temp_list.append(data.find(name=\"h3\").text)\n",
        "        details = [x.text for x in data.find_all(name=\"b\") ]\n",
        "        temp_list.extend(details)\n",
        "      \n",
        "      else:  temp_list.append(data.text[2:-2])\n",
        "\n",
        "    table_dict = {columns[idx] : temp_list[idx] for idx,val in enumerate(temp_list) }\n",
        "\n",
        "    table_list.append(table_dict)\n"
      ],
      "execution_count": null,
      "outputs": []
    },
    {
      "cell_type": "code",
      "metadata": {
        "colab": {
          "base_uri": "https://localhost:8080/",
          "height": 419
        },
        "id": "wffuGWgSQie2",
        "outputId": "4a968943-2d41-44c2-c5fc-740affda39d3"
      },
      "source": [
        "df = pd.DataFrame(data=table_list,columns=columns)\n",
        "df"
      ],
      "execution_count": null,
      "outputs": [
        {
          "output_type": "execute_result",
          "data": {
            "text/html": [
              "<div>\n",
              "<style scoped>\n",
              "    .dataframe tbody tr th:only-of-type {\n",
              "        vertical-align: middle;\n",
              "    }\n",
              "\n",
              "    .dataframe tbody tr th {\n",
              "        vertical-align: top;\n",
              "    }\n",
              "\n",
              "    .dataframe thead th {\n",
              "        text-align: right;\n",
              "    }\n",
              "</style>\n",
              "<table border=\"1\" class=\"dataframe\">\n",
              "  <thead>\n",
              "    <tr style=\"text-align: right;\">\n",
              "      <th></th>\n",
              "      <th>National Rank</th>\n",
              "      <th>World Rank</th>\n",
              "      <th>Image URLs</th>\n",
              "      <th>Name</th>\n",
              "      <th>Affiliation</th>\n",
              "      <th>Country</th>\n",
              "      <th>#DBLP</th>\n",
              "      <th>Citations</th>\n",
              "      <th>H-index</th>\n",
              "    </tr>\n",
              "  </thead>\n",
              "  <tbody>\n",
              "    <tr>\n",
              "      <th>0</th>\n",
              "      <td>1</td>\n",
              "      <td>1</td>\n",
              "      <td>https://www.guide2research.com/img/av/u/anil-k...</td>\n",
              "      <td>Anil K. Jain</td>\n",
              "      <td>Michigan State University</td>\n",
              "      <td>United States</td>\n",
              "      <td>767</td>\n",
              "      <td>224,608</td>\n",
              "      <td>197</td>\n",
              "    </tr>\n",
              "    <tr>\n",
              "      <th>1</th>\n",
              "      <td>2</td>\n",
              "      <td>2</td>\n",
              "      <td>https://www.guide2research.com/img/av/u/herber...</td>\n",
              "      <td>Herbert Simon</td>\n",
              "      <td>Carnegie Mellon University</td>\n",
              "      <td>United States</td>\n",
              "      <td>85</td>\n",
              "      <td>403,071</td>\n",
              "      <td>185</td>\n",
              "    </tr>\n",
              "    <tr>\n",
              "      <th>2</th>\n",
              "      <td>1</td>\n",
              "      <td>3</td>\n",
              "      <td>https://www.guide2research.com/img/av/u/yoshua...</td>\n",
              "      <td>Yoshua Bengio</td>\n",
              "      <td>University of Montreal</td>\n",
              "      <td>Canada</td>\n",
              "      <td>827</td>\n",
              "      <td>404,800</td>\n",
              "      <td>184</td>\n",
              "    </tr>\n",
              "    <tr>\n",
              "      <th>3</th>\n",
              "      <td>3</td>\n",
              "      <td>4</td>\n",
              "      <td>https://www.guide2research.com/img/av/u/jiawei...</td>\n",
              "      <td>Jiawei Han</td>\n",
              "      <td>University of Illinois at Urbana-Champaign</td>\n",
              "      <td>United States</td>\n",
              "      <td>1,060</td>\n",
              "      <td>156,845</td>\n",
              "      <td>182</td>\n",
              "    </tr>\n",
              "    <tr>\n",
              "      <th>4</th>\n",
              "      <td>4</td>\n",
              "      <td>5</td>\n",
              "      <td>https://www.guide2research.com/img/av/u/michae...</td>\n",
              "      <td>Michael I. Jordan</td>\n",
              "      <td>University of California, Berkeley</td>\n",
              "      <td>United States</td>\n",
              "      <td>636</td>\n",
              "      <td>211,810</td>\n",
              "      <td>180</td>\n",
              "    </tr>\n",
              "    <tr>\n",
              "      <th>...</th>\n",
              "      <td>...</td>\n",
              "      <td>...</td>\n",
              "      <td>...</td>\n",
              "      <td>...</td>\n",
              "      <td>...</td>\n",
              "      <td>...</td>\n",
              "      <td>...</td>\n",
              "      <td>...</td>\n",
              "      <td>...</td>\n",
              "    </tr>\n",
              "    <tr>\n",
              "      <th>995</th>\n",
              "      <td>46</td>\n",
              "      <td>996</td>\n",
              "      <td>https://www.guide2research.com/img/av/u/dong-y...</td>\n",
              "      <td>Dong Yu (俞栋)</td>\n",
              "      <td>Tencent</td>\n",
              "      <td>China</td>\n",
              "      <td>297</td>\n",
              "      <td>40,875</td>\n",
              "      <td>72</td>\n",
              "    </tr>\n",
              "    <tr>\n",
              "      <th>996</th>\n",
              "      <td>604</td>\n",
              "      <td>997</td>\n",
              "      <td>/img/av/up/andrew-senior_80x80.jpg</td>\n",
              "      <td>Andrew Senior</td>\n",
              "      <td>Google</td>\n",
              "      <td>United States</td>\n",
              "      <td>92</td>\n",
              "      <td>38,343</td>\n",
              "      <td>72</td>\n",
              "    </tr>\n",
              "    <tr>\n",
              "      <th>997</th>\n",
              "      <td>36</td>\n",
              "      <td>998</td>\n",
              "      <td>https://www.guide2research.com/img/av/u/gerhar...</td>\n",
              "      <td>Gerhard P. Fettweis</td>\n",
              "      <td>Dresden University of Technology</td>\n",
              "      <td>Germany</td>\n",
              "      <td>716</td>\n",
              "      <td>35,627</td>\n",
              "      <td>72</td>\n",
              "    </tr>\n",
              "    <tr>\n",
              "      <th>998</th>\n",
              "      <td>13</td>\n",
              "      <td>999</td>\n",
              "      <td>https://www.guide2research.com/img/av/u/marco-...</td>\n",
              "      <td>Marco Conti</td>\n",
              "      <td>National Research Council, Italy</td>\n",
              "      <td>Italy</td>\n",
              "      <td>363</td>\n",
              "      <td>31,530</td>\n",
              "      <td>72</td>\n",
              "    </tr>\n",
              "    <tr>\n",
              "      <th>999</th>\n",
              "      <td>605</td>\n",
              "      <td>1000</td>\n",
              "      <td>https://www.guide2research.com/img/av/u/mauric...</td>\n",
              "      <td>Maurice Herlihy</td>\n",
              "      <td>Brown University</td>\n",
              "      <td>United States</td>\n",
              "      <td>289</td>\n",
              "      <td>30,843</td>\n",
              "      <td>72</td>\n",
              "    </tr>\n",
              "  </tbody>\n",
              "</table>\n",
              "<p>1000 rows × 9 columns</p>\n",
              "</div>"
            ],
            "text/plain": [
              "    National Rank World Rank  ... Citations H-index\n",
              "0               1          1  ...   224,608     197\n",
              "1               2          2  ...   403,071     185\n",
              "2               1          3  ...   404,800     184\n",
              "3               3          4  ...   156,845     182\n",
              "4               4          5  ...   211,810     180\n",
              "..            ...        ...  ...       ...     ...\n",
              "995            46        996  ...    40,875      72\n",
              "996           604        997  ...    38,343      72\n",
              "997            36        998  ...    35,627      72\n",
              "998            13        999  ...    31,530      72\n",
              "999           605       1000  ...    30,843      72\n",
              "\n",
              "[1000 rows x 9 columns]"
            ]
          },
          "metadata": {
            "tags": []
          },
          "execution_count": 10
        }
      ]
    },
    {
      "cell_type": "markdown",
      "metadata": {
        "id": "sFYkwOug77yC"
      },
      "source": [
        "### Saving the CSV File"
      ]
    },
    {
      "cell_type": "code",
      "metadata": {
        "colab": {
          "base_uri": "https://localhost:8080/"
        },
        "id": "UJ3guSJ37ijT",
        "outputId": "a527d991-87ac-49bb-cc4f-6ae5b22db87d"
      },
      "source": [
        "from google.colab import drive\n",
        "drive.mount('/content/drive')"
      ],
      "execution_count": null,
      "outputs": [
        {
          "output_type": "stream",
          "text": [
            "Drive already mounted at /content/drive; to attempt to forcibly remount, call drive.mount(\"/content/drive\", force_remount=True).\n"
          ],
          "name": "stdout"
        }
      ]
    },
    {
      "cell_type": "code",
      "metadata": {
        "id": "S_H-J0NNrpIl"
      },
      "source": [
        "df.to_csv(\"/content/drive/My Drive/Colab Notebooks/PA Projects/ML Class/Week 4/Top_AI_scientists.csv\",index=False)"
      ],
      "execution_count": null,
      "outputs": []
    }
  ]
}