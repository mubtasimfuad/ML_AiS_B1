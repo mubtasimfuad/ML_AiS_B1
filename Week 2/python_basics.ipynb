{
  "nbformat": 4,
  "nbformat_minor": 0,
  "metadata": {
    "colab": {
      "name": "python_basics.ipynb",
      "provenance": [],
      "collapsed_sections": []
    },
    "kernelspec": {
      "name": "python3",
      "display_name": "Python 3"
    },
    "language_info": {
      "name": "python"
    }
  },
  "cells": [
    {
      "cell_type": "markdown",
      "metadata": {
        "id": "WuW26FcQ3XOC"
      },
      "source": [
        "# Why Python?\n",
        "Python is the most popular and most used language in Data Science. But why? \n",
        "- Python is open source. So we do not need to worry about licensing.\n",
        "- Simple syntax. Looks almost like pseudocode.\n",
        "- Thousands of libraries and active collaborators.\n"
      ]
    },
    {
      "cell_type": "markdown",
      "metadata": {
        "id": "SBqs6l9Z66T2"
      },
      "source": [
        "# Operators\n",
        "There are 3 types of operators\n",
        "- Arithmetic Operators\n",
        "- Comparison Operators\n",
        "- Logical Operators"
      ]
    },
    {
      "cell_type": "markdown",
      "metadata": {
        "id": "TyO3J_z17n2v"
      },
      "source": [
        "## Arithmetic Operators"
      ]
    },
    {
      "cell_type": "code",
      "metadata": {
        "colab": {
          "base_uri": "https://localhost:8080/"
        },
        "id": "e_7WPY9nwqf3",
        "outputId": "b1a77238-0e1e-4e74-ae61-e2052240c0a7"
      },
      "source": [
        "print(\"Addition (5+3) =\",5+3 )\n",
        "print(\"Substraction (5-3) =\", 5-3 )  \n",
        "print(\"Multiplication (5*3) =\", 5*3 ) \n",
        "print(\"Exponent (5**3) =\", 5**3 )  \n",
        "print(\"Division (5/3) =\", 5/3 )  \n",
        "print(\"Integer Division (5//3) =\", 5//3 ) \n",
        "print(\"Remainder (5%3) =\", 5%3 )  "
      ],
      "execution_count": 18,
      "outputs": [
        {
          "output_type": "stream",
          "text": [
            "Addition (5+3) = 8\n",
            "Substraction (5-3) = 2\n",
            "Multiplication (5*3) = 15\n",
            "Exponent (5**3) = 125\n",
            "Division (5/3) = 1.6666666666666667\n",
            "Integer Division (5//3) = 1\n",
            "Remainder (5%3) = 2\n"
          ],
          "name": "stdout"
        }
      ]
    },
    {
      "cell_type": "markdown",
      "metadata": {
        "id": "2qB9STwS8nWY"
      },
      "source": [
        "## Comparison Operators"
      ]
    },
    {
      "cell_type": "code",
      "metadata": {
        "colab": {
          "base_uri": "https://localhost:8080/"
        },
        "id": "7SIUUa768qnN",
        "outputId": "7e7e6114-f592-4e52-dced-b58b5620e70d"
      },
      "source": [
        "print(\"Less than: (5<3) =>\",5<3 )\n",
        "print(\"Less than or Equal to: (5<=3) =>\", 5<=3 )  \n",
        "print(\"Equal to: (5==3) =>\", 5==3 )  \n",
        "print(\"Greater than: (5>3) =>\", 5>3 )  \n",
        "print(\"Greater than or equal to: (5>=3) =>\", 5>=3 ) \n",
        "print(\"Not equal to: (5!=3) =>\", 5!=3 )  "
      ],
      "execution_count": 19,
      "outputs": [
        {
          "output_type": "stream",
          "text": [
            "Less than: (5<3) => False\n",
            "Less than or Equal to: (5<=3) => False\n",
            "Equal to: (5==3) => False\n",
            "Greater than: (5>3) => True\n",
            "Greater than or equal to: (5>=3) => True\n",
            "Not equal to: (5!=3) => True\n"
          ],
          "name": "stdout"
        }
      ]
    },
    {
      "cell_type": "markdown",
      "metadata": {
        "id": "_ZCuY_jt9Y_H"
      },
      "source": [
        "# Logical Operators\n",
        "- and\n",
        "- or\n",
        "- not\n",
        "- xor"
      ]
    },
    {
      "cell_type": "code",
      "metadata": {
        "colab": {
          "base_uri": "https://localhost:8080/"
        },
        "id": "RPfiSJp3GV4P",
        "outputId": "6d07ec64-15d6-44db-b83b-a7ece1e04f6c"
      },
      "source": [
        "t = True\n",
        "f = False\n",
        "print(t and f) \n",
        "print(t or f)  \n",
        "print(not t)  "
      ],
      "execution_count": 21,
      "outputs": [
        {
          "output_type": "stream",
          "text": [
            "False\n",
            "True\n",
            "True\n"
          ],
          "name": "stdout"
        }
      ]
    },
    {
      "cell_type": "markdown",
      "metadata": {
        "id": "1Zff5bZ6-M3d"
      },
      "source": [
        "# Variables\n",
        "Naming Rules:\n",
        "- case-sensitive (s and S are not same)\n",
        "- cannot start with special characters except underscore \"_\"\n",
        "- cannot start with a number"
      ]
    },
    {
      "cell_type": "code",
      "metadata": {
        "colab": {
          "base_uri": "https://localhost:8080/"
        },
        "id": "OvkYJGYyAIJX",
        "outputId": "f2043862-75f0-48b6-f99f-2f2802bd6012"
      },
      "source": [
        "a = int(input()) # any variable assignment\n",
        "A = a + 3\n",
        "print(a, A)"
      ],
      "execution_count": 23,
      "outputs": [
        {
          "output_type": "stream",
          "text": [
            "7\n",
            "7 10\n"
          ],
          "name": "stdout"
        }
      ]
    },
    {
      "cell_type": "markdown",
      "metadata": {
        "id": "0N9BsBzIAoT1"
      },
      "source": [
        "# Data Types\n",
        "- Integer\n",
        "- Boolean\n",
        "- Float\n",
        "- String"
      ]
    },
    {
      "cell_type": "code",
      "metadata": {
        "colab": {
          "base_uri": "https://localhost:8080/"
        },
        "id": "HPMMtFrkBqrv",
        "outputId": "bb1e1dc4-e810-4578-a328-aae2e9360d94"
      },
      "source": [
        "a = 212\n",
        "b = True\n",
        "c = 19.97\n",
        "d = \"Amar iSchool\"\n",
        "print(a,b,c,d)\n",
        "type(a),type(b),type(c),type(d)"
      ],
      "execution_count": 24,
      "outputs": [
        {
          "output_type": "stream",
          "text": [
            "212 True 19.97 Amar iSchool\n"
          ],
          "name": "stdout"
        },
        {
          "output_type": "execute_result",
          "data": {
            "text/plain": [
              "(int, bool, float, str)"
            ]
          },
          "metadata": {
            "tags": []
          },
          "execution_count": 24
        }
      ]
    },
    {
      "cell_type": "markdown",
      "metadata": {
        "id": "ti8uNdJaGq9M"
      },
      "source": [
        "## Strings\n",
        "Python has great support for strings"
      ]
    },
    {
      "cell_type": "code",
      "metadata": {
        "colab": {
          "base_uri": "https://localhost:8080/"
        },
        "id": "t5sQdonZGmbF",
        "outputId": "c997a377-47d8-4d32-a8a8-815f482de115"
      },
      "source": [
        "# write with single or double quote, it does not matter\n",
        "\n",
        "a = 'hello'    \n",
        "b = \"world\"    \n",
        "print(a,b)       \n",
        "print(len(a),len(b))  # String length\n",
        "\n",
        "hw = a + ' ' + b  # String concatenation\n",
        "print(hw)\n",
        "\n",
        "hw212 = '%s %s %d' % (a, b, 212)  # sprintf style string formatting\n",
        "print(hw212)  # prints \"hello world 212\""
      ],
      "execution_count": 25,
      "outputs": [
        {
          "output_type": "stream",
          "text": [
            "hello world\n",
            "5 5\n",
            "hello world\n",
            "hello world 212\n"
          ],
          "name": "stdout"
        }
      ]
    },
    {
      "cell_type": "code",
      "metadata": {
        "colab": {
          "base_uri": "https://localhost:8080/"
        },
        "id": "GRR36V6kG0ns",
        "outputId": "4db72261-4077-46b4-9693-de454551da1f"
      },
      "source": [
        "# Bonus\n",
        "\n",
        "s = \"hello\"\n",
        "print(s.capitalize())  # Capitalize a string\n",
        "print(s.upper())       # Convert a string to uppercase\n",
        "print(s.rjust(7))      # Right-justify a string, padding with spaces\n",
        "print(s.center(7))     # Center a string, padding with spaces\n",
        "print(s.replace('l', '(ell)'))  # Replace all instances of one substring with another\n",
        "print('  world '.strip())  # Strip leading and trailing whitespace\n",
        "print(s*3)\n",
        "print(hw212.split())"
      ],
      "execution_count": 26,
      "outputs": [
        {
          "output_type": "stream",
          "text": [
            "Hello\n",
            "HELLO\n",
            "  hello\n",
            " hello \n",
            "he(ell)(ell)o\n",
            "world\n",
            "hellohellohello\n",
            "['hello', 'world', '212']\n"
          ],
          "name": "stdout"
        }
      ]
    },
    {
      "cell_type": "markdown",
      "metadata": {
        "id": "rpt6_iNiC7GO"
      },
      "source": [
        "# Conditional Statements\n",
        "- if - else statement\n",
        "- if - elif - else statement"
      ]
    },
    {
      "cell_type": "code",
      "metadata": {
        "colab": {
          "base_uri": "https://localhost:8080/"
        },
        "id": "5R-ZrcLTC-R1",
        "outputId": "dd385726-0ea8-48d3-c5cd-8d3c5c29e619"
      },
      "source": [
        "x = float(input())\n",
        "\n",
        "if(x>=3.75):    print(\"First Class Honors\")\n",
        "elif(x>=3.0):   print(\"First Class\")\n",
        "else:           print(\"Second Class\")"
      ],
      "execution_count": 28,
      "outputs": [
        {
          "output_type": "stream",
          "text": [
            "3.75\n",
            "First Class Honors\n"
          ],
          "name": "stdout"
        }
      ]
    },
    {
      "cell_type": "markdown",
      "metadata": {
        "id": "0iCsYdF9Dj7T"
      },
      "source": [
        "# Looping Constructs"
      ]
    },
    {
      "cell_type": "code",
      "metadata": {
        "colab": {
          "base_uri": "https://localhost:8080/"
        },
        "id": "eWkjH0a8DnoB",
        "outputId": "5e43da8c-7d28-47f3-b2eb-51165332425b"
      },
      "source": [
        "# Print all odd numbers from 10 to 20\n",
        "for i in range(10,21): # st en+1\n",
        "  if i%2==1 : print(i) "
      ],
      "execution_count": 29,
      "outputs": [
        {
          "output_type": "stream",
          "text": [
            "11\n",
            "13\n",
            "15\n",
            "17\n",
            "19\n"
          ],
          "name": "stdout"
        }
      ]
    },
    {
      "cell_type": "code",
      "metadata": {
        "colab": {
          "base_uri": "https://localhost:8080/"
        },
        "id": "eLKfimAhGqbJ",
        "outputId": "7745ad18-18b4-40dc-d325-f30d92ac7059"
      },
      "source": [
        "for i in range(11,21,2): # st en+1 step\n",
        "  print(i) "
      ],
      "execution_count": 30,
      "outputs": [
        {
          "output_type": "stream",
          "text": [
            "11\n",
            "13\n",
            "15\n",
            "17\n",
            "19\n"
          ],
          "name": "stdout"
        }
      ]
    },
    {
      "cell_type": "code",
      "metadata": {
        "colab": {
          "base_uri": "https://localhost:8080/"
        },
        "id": "Ew7wkt8iKtLh",
        "outputId": "09ecd563-16e0-445f-ab03-238e3fb4f2dd"
      },
      "source": [
        "start = 50\n",
        "while start>1:\n",
        "  print(start)\n",
        "  start = start // 2"
      ],
      "execution_count": 31,
      "outputs": [
        {
          "output_type": "stream",
          "text": [
            "50\n",
            "25\n",
            "12\n",
            "6\n",
            "3\n"
          ],
          "name": "stdout"
        }
      ]
    },
    {
      "cell_type": "markdown",
      "metadata": {
        "id": "_4QJKpbNGx9Z"
      },
      "source": [
        "# Functions"
      ]
    },
    {
      "cell_type": "markdown",
      "metadata": {
        "id": "lnm6F3l_G-G7"
      },
      "source": [
        "Reusable piece of code created for solving specific problem. \n"
      ]
    },
    {
      "cell_type": "code",
      "metadata": {
        "id": "kSSoTtMFGzlp"
      },
      "source": [
        "'''\n",
        "syntax\n",
        "def function_name(arguments): \n",
        "  // code\n",
        "  return something\n",
        "'''\n",
        "\n",
        "def area_of_circle(radius):\n",
        "  return 3.1416 * (radius ** 2)"
      ],
      "execution_count": 32,
      "outputs": []
    },
    {
      "cell_type": "code",
      "metadata": {
        "colab": {
          "base_uri": "https://localhost:8080/"
        },
        "id": "cK8RJOCoISmD",
        "outputId": "12b2a216-1ef5-4f98-f970-a3064ebf7547"
      },
      "source": [
        "x = float(input())\n",
        "area_of_circle(x)"
      ],
      "execution_count": 33,
      "outputs": [
        {
          "output_type": "stream",
          "text": [
            "10\n"
          ],
          "name": "stdout"
        },
        {
          "output_type": "execute_result",
          "data": {
            "text/plain": [
              "314.15999999999997"
            ]
          },
          "metadata": {
            "tags": []
          },
          "execution_count": 33
        }
      ]
    },
    {
      "cell_type": "code",
      "metadata": {
        "colab": {
          "base_uri": "https://localhost:8080/"
        },
        "id": "wK8FxtQsJq_r",
        "outputId": "f47651e1-b3d8-4756-ac57-0affca38a332"
      },
      "source": [
        "def hello(name, loud=False):\n",
        "    if loud:\n",
        "        print('HELLO, %s!' % name.upper())\n",
        "    else:\n",
        "        print('Hello, %s' % name)\n",
        "\n",
        "hello('Abu') \n",
        "hello('Karim', loud=True)"
      ],
      "execution_count": 34,
      "outputs": [
        {
          "output_type": "stream",
          "text": [
            "Hello, Abu\n",
            "HELLO, KARIM!\n"
          ],
          "name": "stdout"
        }
      ]
    },
    {
      "cell_type": "markdown",
      "metadata": {
        "id": "GOrVnjwlKLN5"
      },
      "source": [
        "# Classes"
      ]
    },
    {
      "cell_type": "code",
      "metadata": {
        "colab": {
          "base_uri": "https://localhost:8080/"
        },
        "id": "S_XUw1njKPQp",
        "outputId": "f7403349-bad0-4ba8-af16-353a4b54fe1d"
      },
      "source": [
        "class Greeter(object):\n",
        "\n",
        "    # Constructor\n",
        "    def __init__(self, name):\n",
        "        self.name = name  # Create an instance variable\n",
        "\n",
        "    # Instance method\n",
        "    def greet(self, loud=False):\n",
        "        if loud:\n",
        "            print('HELLO, %s!' % self.name.upper())\n",
        "        else:\n",
        "            print('Hello, %s' % self.name)\n",
        "\n",
        "g = Greeter('Karim')  # Construct an instance of the Greeter class\n",
        "g.greet()            \n",
        "g.greet(loud=True) \n",
        "\n",
        "f = Greeter('Sabik')\n",
        "f.greet(loud=True)"
      ],
      "execution_count": 35,
      "outputs": [
        {
          "output_type": "stream",
          "text": [
            "Hello, Karim\n",
            "HELLO, KARIM!\n",
            "HELLO, SABIK!\n"
          ],
          "name": "stdout"
        }
      ]
    }
  ]
}