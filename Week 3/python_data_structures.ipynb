{
  "nbformat": 4,
  "nbformat_minor": 0,
  "metadata": {
    "colab": {
      "name": "python_data_structures.ipynb",
      "provenance": [],
      "collapsed_sections": []
    },
    "kernelspec": {
      "name": "python3",
      "display_name": "Python 3"
    },
    "language_info": {
      "name": "python"
    }
  },
  "cells": [
    {
      "cell_type": "markdown",
      "metadata": {
        "id": "IpBs1k_TGumz"
      },
      "source": [
        "# Python Data Structures (Containers)\n",
        "- Lists \n",
        "- Dictionaries\n",
        "- Sets\n",
        "- Tuples"
      ]
    },
    {
      "cell_type": "markdown",
      "metadata": {
        "id": "kjVif4cxHnp0"
      },
      "source": [
        "# List\n",
        "Python equivalent of an array, but is resizeable and can contain elements of different data types."
      ]
    },
    {
      "cell_type": "code",
      "metadata": {
        "colab": {
          "base_uri": "https://localhost:8080/"
        },
        "id": "cFdYN3gIGivd",
        "outputId": "352bb7e3-9841-4276-dfde-3db6b856d11c"
      },
      "source": [
        "# Indexing 0 1 2 3\n",
        "x = ['AI',1,'is',2,'the',2.4,'new',True,'electricity']\n",
        "x"
      ],
      "execution_count": 1,
      "outputs": [
        {
          "output_type": "execute_result",
          "data": {
            "text/plain": [
              "['AI', 1, 'is', 2, 'the', 2.4, 'new', True, 'electricity']"
            ]
          },
          "metadata": {
            "tags": []
          },
          "execution_count": 1
        }
      ]
    },
    {
      "cell_type": "code",
      "metadata": {
        "colab": {
          "base_uri": "https://localhost:8080/"
        },
        "id": "oIwoNQRfO-tm",
        "outputId": "df298629-2147-4a29-ef36-6b9623c05bad"
      },
      "source": [
        "x[0], x[3] # Indexing"
      ],
      "execution_count": 2,
      "outputs": [
        {
          "output_type": "execute_result",
          "data": {
            "text/plain": [
              "('AI', 2)"
            ]
          },
          "metadata": {
            "tags": []
          },
          "execution_count": 2
        }
      ]
    },
    {
      "cell_type": "code",
      "metadata": {
        "colab": {
          "base_uri": "https://localhost:8080/"
        },
        "id": "0MpMQmEsPECr",
        "outputId": "69c494d6-2a4e-49f0-ff0e-c4e427a1804c"
      },
      "source": [
        "x[-1], x[-4] # Negative indices count from the end of the list"
      ],
      "execution_count": 3,
      "outputs": [
        {
          "output_type": "execute_result",
          "data": {
            "text/plain": [
              "('electricity', 2.4)"
            ]
          },
          "metadata": {
            "tags": []
          },
          "execution_count": 3
        }
      ]
    },
    {
      "cell_type": "code",
      "metadata": {
        "colab": {
          "base_uri": "https://localhost:8080/"
        },
        "id": "nXCDEnUZPO27",
        "outputId": "686ce129-723d-44c7-fa22-9e0786ddcde8"
      },
      "source": [
        "x[-1]='revolution' # Assigning values to a list\n",
        "x"
      ],
      "execution_count": 4,
      "outputs": [
        {
          "output_type": "execute_result",
          "data": {
            "text/plain": [
              "['AI', 1, 'is', 2, 'the', 2.4, 'new', True, 'revolution']"
            ]
          },
          "metadata": {
            "tags": []
          },
          "execution_count": 4
        }
      ]
    },
    {
      "cell_type": "code",
      "metadata": {
        "colab": {
          "base_uri": "https://localhost:8080/"
        },
        "id": "WxE8iPEFPZCb",
        "outputId": "264b59f3-3aa8-4ec6-988d-246218381b29"
      },
      "source": [
        "x.append(3) # Add a new element to the end of the list\n",
        "x"
      ],
      "execution_count": 5,
      "outputs": [
        {
          "output_type": "execute_result",
          "data": {
            "text/plain": [
              "['AI', 1, 'is', 2, 'the', 2.4, 'new', True, 'revolution', 3]"
            ]
          },
          "metadata": {
            "tags": []
          },
          "execution_count": 5
        }
      ]
    },
    {
      "cell_type": "code",
      "metadata": {
        "colab": {
          "base_uri": "https://localhost:8080/"
        },
        "id": "bfyx86KbPmsT",
        "outputId": "7d212c68-42a6-4f2b-c53c-415562be3fff"
      },
      "source": [
        "x.extend(['We', 'love', 'Python']) # Add multiple new element to the end of the list\n",
        "x"
      ],
      "execution_count": 6,
      "outputs": [
        {
          "output_type": "execute_result",
          "data": {
            "text/plain": [
              "['AI',\n",
              " 1,\n",
              " 'is',\n",
              " 2,\n",
              " 'the',\n",
              " 2.4,\n",
              " 'new',\n",
              " True,\n",
              " 'revolution',\n",
              " 3,\n",
              " 'We',\n",
              " 'love',\n",
              " 'Python']"
            ]
          },
          "metadata": {
            "tags": []
          },
          "execution_count": 6
        }
      ]
    },
    {
      "cell_type": "code",
      "metadata": {
        "colab": {
          "base_uri": "https://localhost:8080/"
        },
        "id": "rr5tGT95PwmD",
        "outputId": "676beef7-d475-43b7-ac60-2fec921dfa9c"
      },
      "source": [
        "x.append(['We', 'love', 'Python']) # Add a list to the end of the list\n",
        "x"
      ],
      "execution_count": 7,
      "outputs": [
        {
          "output_type": "execute_result",
          "data": {
            "text/plain": [
              "['AI',\n",
              " 1,\n",
              " 'is',\n",
              " 2,\n",
              " 'the',\n",
              " 2.4,\n",
              " 'new',\n",
              " True,\n",
              " 'revolution',\n",
              " 3,\n",
              " 'We',\n",
              " 'love',\n",
              " 'Python',\n",
              " ['We', 'love', 'Python']]"
            ]
          },
          "metadata": {
            "tags": []
          },
          "execution_count": 7
        }
      ]
    },
    {
      "cell_type": "code",
      "metadata": {
        "colab": {
          "base_uri": "https://localhost:8080/",
          "height": 35
        },
        "id": "VPAw_O9gQN-t",
        "outputId": "462bd435-c568-4b54-fe9b-892e7710f2b1"
      },
      "source": [
        "x[-1][-1] # We can also access the list inside the list"
      ],
      "execution_count": 9,
      "outputs": [
        {
          "output_type": "execute_result",
          "data": {
            "application/vnd.google.colaboratory.intrinsic+json": {
              "type": "string"
            },
            "text/plain": [
              "'Python'"
            ]
          },
          "metadata": {
            "tags": []
          },
          "execution_count": 9
        }
      ]
    },
    {
      "cell_type": "code",
      "metadata": {
        "colab": {
          "base_uri": "https://localhost:8080/"
        },
        "id": "ornOmS83QWOb",
        "outputId": "42919d0f-16b1-45c4-c593-0ea48cfa8f64"
      },
      "source": [
        "# Deleting values\n",
        "rem = x.pop()\n",
        "rem, x"
      ],
      "execution_count": 10,
      "outputs": [
        {
          "output_type": "execute_result",
          "data": {
            "text/plain": [
              "(['We', 'love', 'Python'],\n",
              " ['AI',\n",
              "  1,\n",
              "  'is',\n",
              "  2,\n",
              "  'the',\n",
              "  2.4,\n",
              "  'new',\n",
              "  True,\n",
              "  'revolution',\n",
              "  3,\n",
              "  'We',\n",
              "  'love',\n",
              "  'Python'])"
            ]
          },
          "metadata": {
            "tags": []
          },
          "execution_count": 10
        }
      ]
    },
    {
      "cell_type": "code",
      "metadata": {
        "colab": {
          "base_uri": "https://localhost:8080/"
        },
        "id": "OkjvLmc_bEs6",
        "outputId": "c22e9a6a-7722-44f4-ba4d-839eeb9aa5bc"
      },
      "source": [
        "x"
      ],
      "execution_count": 13,
      "outputs": [
        {
          "output_type": "execute_result",
          "data": {
            "text/plain": [
              "['AI',\n",
              " 1,\n",
              " 'is',\n",
              " 2,\n",
              " 'the',\n",
              " 2.4,\n",
              " 'new',\n",
              " True,\n",
              " 'revolution',\n",
              " 3,\n",
              " 'We',\n",
              " 'love',\n",
              " 'Python']"
            ]
          },
          "metadata": {
            "tags": []
          },
          "execution_count": 13
        }
      ]
    },
    {
      "cell_type": "code",
      "metadata": {
        "colab": {
          "base_uri": "https://localhost:8080/"
        },
        "id": "2ihNCU_RQhik",
        "outputId": "b604a3f1-8b6d-4e60-e5d5-edb14534dcc7"
      },
      "source": [
        "x.remove('Python')\n",
        "x"
      ],
      "execution_count": 14,
      "outputs": [
        {
          "output_type": "execute_result",
          "data": {
            "text/plain": [
              "['AI', 1, 'is', 2, 'the', 2.4, 'new', True, 'revolution', 3, 'We', 'love']"
            ]
          },
          "metadata": {
            "tags": []
          },
          "execution_count": 14
        }
      ]
    },
    {
      "cell_type": "code",
      "metadata": {
        "colab": {
          "base_uri": "https://localhost:8080/"
        },
        "id": "gQV4Fx_lQol0",
        "outputId": "d59f2c94-212d-4b76-827c-0dbc5d044e5c"
      },
      "source": [
        "del x[-3]\n",
        "x"
      ],
      "execution_count": 15,
      "outputs": [
        {
          "output_type": "execute_result",
          "data": {
            "text/plain": [
              "['AI', 1, 'is', 2, 'the', 2.4, 'new', True, 'revolution', 'We', 'love']"
            ]
          },
          "metadata": {
            "tags": []
          },
          "execution_count": 15
        }
      ]
    },
    {
      "cell_type": "code",
      "metadata": {
        "colab": {
          "base_uri": "https://localhost:8080/"
        },
        "id": "gfVu0SmcQ0GM",
        "outputId": "d1d99ad4-2089-4124-d9eb-a741979ee052"
      },
      "source": [
        "# Slicing\n",
        "x[1:5]  # Get a slice from index 0 to 5 (exclusive)"
      ],
      "execution_count": 16,
      "outputs": [
        {
          "output_type": "execute_result",
          "data": {
            "text/plain": [
              "[1, 'is', 2, 'the']"
            ]
          },
          "metadata": {
            "tags": []
          },
          "execution_count": 16
        }
      ]
    },
    {
      "cell_type": "code",
      "metadata": {
        "colab": {
          "base_uri": "https://localhost:8080/"
        },
        "id": "EquTAFEMQ_PU",
        "outputId": "1f4d3884-df42-4b4b-a414-6918502ff8fd"
      },
      "source": [
        "x[3:] # Get a slice from index 3 to the end"
      ],
      "execution_count": 17,
      "outputs": [
        {
          "output_type": "execute_result",
          "data": {
            "text/plain": [
              "[2, 'the', 2.4, 'new', True, 'revolution', 'We', 'love']"
            ]
          },
          "metadata": {
            "tags": []
          },
          "execution_count": 17
        }
      ]
    },
    {
      "cell_type": "code",
      "metadata": {
        "colab": {
          "base_uri": "https://localhost:8080/"
        },
        "id": "h-21uZ6bRKIk",
        "outputId": "6182291f-74c9-4bf7-ba6e-60074d36891c"
      },
      "source": [
        "x[:3] # Get a slice from the start to index 2 (exclusive)"
      ],
      "execution_count": 18,
      "outputs": [
        {
          "output_type": "execute_result",
          "data": {
            "text/plain": [
              "['AI', 1, 'is']"
            ]
          },
          "metadata": {
            "tags": []
          },
          "execution_count": 18
        }
      ]
    },
    {
      "cell_type": "code",
      "metadata": {
        "colab": {
          "base_uri": "https://localhost:8080/"
        },
        "id": "MLfRvc17RTCs",
        "outputId": "5489ac6d-ac61-4c47-c602-be057a66fcff"
      },
      "source": [
        "x[:] # Get a slice of the whole list"
      ],
      "execution_count": 19,
      "outputs": [
        {
          "output_type": "execute_result",
          "data": {
            "text/plain": [
              "['AI', 1, 'is', 2, 'the', 2.4, 'new', True, 'revolution', 'We', 'love']"
            ]
          },
          "metadata": {
            "tags": []
          },
          "execution_count": 19
        }
      ]
    },
    {
      "cell_type": "code",
      "metadata": {
        "colab": {
          "base_uri": "https://localhost:8080/"
        },
        "id": "2TlAeMSFcLf2",
        "outputId": "302d0f2b-53f8-4fbb-f1f0-333a5c55ddce"
      },
      "source": [
        "len(x) # prints out the length"
      ],
      "execution_count": 22,
      "outputs": [
        {
          "output_type": "execute_result",
          "data": {
            "text/plain": [
              "11"
            ]
          },
          "metadata": {
            "tags": []
          },
          "execution_count": 22
        }
      ]
    },
    {
      "cell_type": "code",
      "metadata": {
        "colab": {
          "base_uri": "https://localhost:8080/"
        },
        "id": "g9zbMEXfRU8s",
        "outputId": "6684fbab-e2c9-44e8-c91c-4b1035d60b06"
      },
      "source": [
        "x[:-3]"
      ],
      "execution_count": 21,
      "outputs": [
        {
          "output_type": "execute_result",
          "data": {
            "text/plain": [
              "['AI', 1, 'is', 2, 'the', 2.4, 'new', True]"
            ]
          },
          "metadata": {
            "tags": []
          },
          "execution_count": 21
        }
      ]
    },
    {
      "cell_type": "markdown",
      "metadata": {
        "id": "GwG7fbC1R3l1"
      },
      "source": [
        "## Loops"
      ]
    },
    {
      "cell_type": "code",
      "metadata": {
        "colab": {
          "base_uri": "https://localhost:8080/"
        },
        "id": "ZqG_zo6mSTGU",
        "outputId": "61e644c3-f7ad-4a44-e860-d2acdf6104b5"
      },
      "source": [
        "for element in x:\n",
        "  print(element)"
      ],
      "execution_count": 23,
      "outputs": [
        {
          "output_type": "stream",
          "text": [
            "AI\n",
            "1\n",
            "is\n",
            "2\n",
            "the\n",
            "2.4\n",
            "new\n",
            "True\n",
            "revolution\n",
            "We\n",
            "love\n"
          ],
          "name": "stdout"
        }
      ]
    },
    {
      "cell_type": "code",
      "metadata": {
        "colab": {
          "base_uri": "https://localhost:8080/"
        },
        "id": "zZ41EgTwcgid",
        "outputId": "b7c86632-6018-4350-deff-423c38ed1cbb"
      },
      "source": [
        "list(enumerate(x))"
      ],
      "execution_count": 26,
      "outputs": [
        {
          "output_type": "execute_result",
          "data": {
            "text/plain": [
              "[(0, 'AI'),\n",
              " (1, 1),\n",
              " (2, 'is'),\n",
              " (3, 2),\n",
              " (4, 'the'),\n",
              " (5, 2.4),\n",
              " (6, 'new'),\n",
              " (7, True),\n",
              " (8, 'revolution'),\n",
              " (9, 'We'),\n",
              " (10, 'love')]"
            ]
          },
          "metadata": {
            "tags": []
          },
          "execution_count": 26
        }
      ]
    },
    {
      "cell_type": "code",
      "metadata": {
        "colab": {
          "base_uri": "https://localhost:8080/"
        },
        "id": "vF6ApNZESbql",
        "outputId": "46220011-ced4-4b71-a78f-6aad9e20e9e2"
      },
      "source": [
        "# If you want access to the index of each element within the body of a loop, use the built-in enumerate function\n",
        "for idx,element in enumerate(x):\n",
        "  print(\"%d %s\" %(idx,element))"
      ],
      "execution_count": 27,
      "outputs": [
        {
          "output_type": "stream",
          "text": [
            "0 AI\n",
            "1 1\n",
            "2 is\n",
            "3 2\n",
            "4 the\n",
            "5 2.4\n",
            "6 new\n",
            "7 True\n",
            "8 revolution\n",
            "9 We\n",
            "10 love\n"
          ],
          "name": "stdout"
        }
      ]
    },
    {
      "cell_type": "markdown",
      "metadata": {
        "id": "5uigkhR5Swjk"
      },
      "source": [
        "## List Comprehensions"
      ]
    },
    {
      "cell_type": "code",
      "metadata": {
        "colab": {
          "base_uri": "https://localhost:8080/"
        },
        "id": "EKEwbKFnSzl0",
        "outputId": "8d0ed94a-b6fb-467c-a51a-8156156d592c"
      },
      "source": [
        "import time\n",
        "start = time.time()\n",
        "\n",
        "nums = list(range(0,5))\n",
        "squares = []\n",
        "\n",
        "for x in nums:\n",
        "  squares.append(x**2)\n",
        "\n",
        "done = time.time()\n",
        "\n",
        "elapsed = done - start\n",
        "\n",
        "squares,elapsed"
      ],
      "execution_count": 37,
      "outputs": [
        {
          "output_type": "execute_result",
          "data": {
            "text/plain": [
              "0.4535551071166992"
            ]
          },
          "metadata": {
            "tags": []
          },
          "execution_count": 37
        }
      ]
    },
    {
      "cell_type": "code",
      "metadata": {
        "colab": {
          "base_uri": "https://localhost:8080/"
        },
        "id": "PhVmGCGNTOh9",
        "outputId": "96254e35-f3cb-4dbe-f8ae-77f1cedf60d8"
      },
      "source": [
        "# The upper codeblock can be written as following\n",
        "import time\n",
        "start = time.time()\n",
        "\n",
        "nums = list(range(0,5))\n",
        "squares = [x**2 for x in nums]\n",
        "\n",
        "done = time.time()\n",
        "\n",
        "elapsed = done - start\n",
        "\n",
        "squares,elapsed"
      ],
      "execution_count": 38,
      "outputs": [
        {
          "output_type": "execute_result",
          "data": {
            "text/plain": [
              "0.3354306221008301"
            ]
          },
          "metadata": {
            "tags": []
          },
          "execution_count": 38
        }
      ]
    },
    {
      "cell_type": "code",
      "metadata": {
        "colab": {
          "base_uri": "https://localhost:8080/"
        },
        "id": "O2x1ExFOTfdu",
        "outputId": "f581e3fb-cae2-406a-9d3e-7c0a6e22cdcc"
      },
      "source": [
        "# Can also contain conditions\n",
        "nums = list(range(0,5))\n",
        "even_squares = [x ** 2 for x in nums if x % 2 == 0]\n",
        "even_squares"
      ],
      "execution_count": 31,
      "outputs": [
        {
          "output_type": "execute_result",
          "data": {
            "text/plain": [
              "[0, 4, 16]"
            ]
          },
          "metadata": {
            "tags": []
          },
          "execution_count": 31
        }
      ]
    }
  ]
}