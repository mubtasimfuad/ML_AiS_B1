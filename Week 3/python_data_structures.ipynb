{
  "nbformat": 4,
  "nbformat_minor": 0,
  "metadata": {
    "colab": {
      "name": "python_data_structures.ipynb",
      "provenance": [],
      "collapsed_sections": []
    },
    "kernelspec": {
      "name": "python3",
      "display_name": "Python 3"
    },
    "language_info": {
      "name": "python"
    }
  },
  "cells": [
    {
      "cell_type": "markdown",
      "metadata": {
        "id": "IpBs1k_TGumz"
      },
      "source": [
        "# Python Data Structures (Containers)\n",
        "- Lists \n",
        "- Dictionaries\n",
        "- Sets\n",
        "- Tuples"
      ]
    },
    {
      "cell_type": "markdown",
      "metadata": {
        "id": "kjVif4cxHnp0"
      },
      "source": [
        "# List\n",
        "Python equivalent of an array, but is resizeable and can contain elements of different data types."
      ]
    },
    {
      "cell_type": "code",
      "metadata": {
        "id": "cFdYN3gIGivd"
      },
      "source": [
        "x = ['AI',1,'is',2,'the',2.4,'new',True,'electricity']\n",
        "x"
      ],
      "execution_count": null,
      "outputs": []
    },
    {
      "cell_type": "code",
      "metadata": {
        "id": "oIwoNQRfO-tm"
      },
      "source": [
        "x[0], x[3] # Indexing"
      ],
      "execution_count": null,
      "outputs": []
    },
    {
      "cell_type": "code",
      "metadata": {
        "id": "0MpMQmEsPECr"
      },
      "source": [
        "x[-1], x[-4] # Negative indices count from the end of the list"
      ],
      "execution_count": null,
      "outputs": []
    },
    {
      "cell_type": "code",
      "metadata": {
        "id": "nXCDEnUZPO27"
      },
      "source": [
        "x[-1]='revolution' # Assigning values to a list\n",
        "x"
      ],
      "execution_count": null,
      "outputs": []
    },
    {
      "cell_type": "code",
      "metadata": {
        "id": "WxE8iPEFPZCb"
      },
      "source": [
        "x.append(3) # Add a new element to the end of the list\n",
        "x"
      ],
      "execution_count": null,
      "outputs": []
    },
    {
      "cell_type": "code",
      "metadata": {
        "id": "bfyx86KbPmsT"
      },
      "source": [
        "x.extend(['We', 'love', 'Python']) # Add multiple new element to the end of the list\n",
        "x"
      ],
      "execution_count": null,
      "outputs": []
    },
    {
      "cell_type": "code",
      "metadata": {
        "id": "rr5tGT95PwmD"
      },
      "source": [
        "x.append(['We', 'love', 'Python']) # Add a list to the end of the list\n",
        "x"
      ],
      "execution_count": 12,
      "outputs": []
    },
    {
      "cell_type": "code",
      "metadata": {
        "id": "VPAw_O9gQN-t"
      },
      "source": [
        "x[-1][0] # We can also access the list inside the list"
      ],
      "execution_count": null,
      "outputs": []
    },
    {
      "cell_type": "code",
      "metadata": {
        "id": "ornOmS83QWOb"
      },
      "source": [
        "# Deleting values\n",
        "rem = x.pop()\n",
        "rem, x"
      ],
      "execution_count": null,
      "outputs": []
    },
    {
      "cell_type": "code",
      "metadata": {
        "id": "2ihNCU_RQhik"
      },
      "source": [
        "x.remove('Python')\n",
        "x"
      ],
      "execution_count": null,
      "outputs": []
    },
    {
      "cell_type": "code",
      "metadata": {
        "id": "gQV4Fx_lQol0"
      },
      "source": [
        "del x[-3]\n",
        "x"
      ],
      "execution_count": null,
      "outputs": []
    },
    {
      "cell_type": "code",
      "metadata": {
        "id": "gfVu0SmcQ0GM"
      },
      "source": [
        "# Slicing\n",
        "x[1:5]  # Get a slice from index 0 to 5 (exclusive)"
      ],
      "execution_count": null,
      "outputs": []
    },
    {
      "cell_type": "code",
      "metadata": {
        "id": "EquTAFEMQ_PU"
      },
      "source": [
        "x[3:] # Get a slice from index 3 to the end"
      ],
      "execution_count": null,
      "outputs": []
    },
    {
      "cell_type": "code",
      "metadata": {
        "id": "h-21uZ6bRKIk"
      },
      "source": [
        "x[:3] # Get a slice from the start to index 2 (exclusive)"
      ],
      "execution_count": null,
      "outputs": []
    },
    {
      "cell_type": "code",
      "metadata": {
        "id": "MLfRvc17RTCs"
      },
      "source": [
        "x[:] # Get a slice of the whole list"
      ],
      "execution_count": null,
      "outputs": []
    },
    {
      "cell_type": "code",
      "metadata": {
        "id": "g9zbMEXfRU8s"
      },
      "source": [
        "x[:-3]"
      ],
      "execution_count": null,
      "outputs": []
    },
    {
      "cell_type": "markdown",
      "metadata": {
        "id": "GwG7fbC1R3l1"
      },
      "source": [
        "## Loops"
      ]
    },
    {
      "cell_type": "code",
      "metadata": {
        "id": "ZqG_zo6mSTGU"
      },
      "source": [
        "for element in x:\n",
        "  print(element)"
      ],
      "execution_count": null,
      "outputs": []
    },
    {
      "cell_type": "code",
      "metadata": {
        "id": "vF6ApNZESbql"
      },
      "source": [
        "# If you want access to the index of each element within the body of a loop, use the built-in enumerate function\n",
        "for idx,element in enumerate(x):\n",
        "  print(\"%d %s\" %(idx,element))"
      ],
      "execution_count": null,
      "outputs": []
    },
    {
      "cell_type": "markdown",
      "metadata": {
        "id": "5uigkhR5Swjk"
      },
      "source": [
        "## List Comprehensions"
      ]
    },
    {
      "cell_type": "code",
      "metadata": {
        "id": "EKEwbKFnSzl0"
      },
      "source": [
        "import time\n",
        "start = time.time()\n",
        "\n",
        "nums = list(range(0,5))\n",
        "squares = []\n",
        "\n",
        "for x in nums:\n",
        "  squares.append(x**2)\n",
        "\n",
        "done = time.time()\n",
        "\n",
        "elapsed = done - start\n",
        "\n",
        "squares,elapsed"
      ],
      "execution_count": null,
      "outputs": []
    },
    {
      "cell_type": "code",
      "metadata": {
        "id": "PhVmGCGNTOh9"
      },
      "source": [
        "# The upper codeblock can be written as following\n",
        "import time\n",
        "start = time.time()\n",
        "\n",
        "nums = list(range(0,5))\n",
        "squares = [x**2 for x in nums]\n",
        "\n",
        "done = time.time()\n",
        "\n",
        "elapsed = done - start\n",
        "\n",
        "squares,elapsed"
      ],
      "execution_count": null,
      "outputs": []
    },
    {
      "cell_type": "code",
      "metadata": {
        "id": "O2x1ExFOTfdu"
      },
      "source": [
        "# Can also contain conditions\n",
        "nums = list(range(0,5))\n",
        "even_squares = [x ** 2 for x in nums if x % 2 == 0]\n",
        "even_squares"
      ],
      "execution_count": null,
      "outputs": []
    }
  ]
}