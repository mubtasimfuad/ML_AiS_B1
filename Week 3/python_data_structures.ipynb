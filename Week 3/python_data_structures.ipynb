{
  "nbformat": 4,
  "nbformat_minor": 0,
  "metadata": {
    "colab": {
      "name": "python_data_structures.ipynb",
      "provenance": [],
      "collapsed_sections": []
    },
    "kernelspec": {
      "name": "python3",
      "display_name": "Python 3"
    },
    "language_info": {
      "name": "python"
    }
  },
  "cells": [
    {
      "cell_type": "markdown",
      "metadata": {
        "id": "IpBs1k_TGumz"
      },
      "source": [
        "# Python Data Structures (Containers)\n",
        "- Lists \n",
        "- Dictionaries\n",
        "- Sets\n",
        "- Tuples"
      ]
    },
    {
      "cell_type": "markdown",
      "metadata": {
        "id": "kjVif4cxHnp0"
      },
      "source": [
        "# List\n",
        "Python equivalent of an array, but is resizeable and can contain elements of different data types."
      ]
    },
    {
      "cell_type": "code",
      "metadata": {
        "colab": {
          "base_uri": "https://localhost:8080/"
        },
        "id": "cFdYN3gIGivd",
        "outputId": "352bb7e3-9841-4276-dfde-3db6b856d11c"
      },
      "source": [
        "# Indexing 0 1 2 3\n",
        "x = ['AI',1,'is',2,'the',2.4,'new',True,'electricity']\n",
        "x"
      ],
      "execution_count": null,
      "outputs": [
        {
          "output_type": "execute_result",
          "data": {
            "text/plain": [
              "['AI', 1, 'is', 2, 'the', 2.4, 'new', True, 'electricity']"
            ]
          },
          "metadata": {
            "tags": []
          },
          "execution_count": 1
        }
      ]
    },
    {
      "cell_type": "code",
      "metadata": {
        "colab": {
          "base_uri": "https://localhost:8080/"
        },
        "id": "oIwoNQRfO-tm",
        "outputId": "df298629-2147-4a29-ef36-6b9623c05bad"
      },
      "source": [
        "x[0], x[3] # Indexing"
      ],
      "execution_count": null,
      "outputs": [
        {
          "output_type": "execute_result",
          "data": {
            "text/plain": [
              "('AI', 2)"
            ]
          },
          "metadata": {
            "tags": []
          },
          "execution_count": 2
        }
      ]
    },
    {
      "cell_type": "code",
      "metadata": {
        "colab": {
          "base_uri": "https://localhost:8080/"
        },
        "id": "0MpMQmEsPECr",
        "outputId": "69c494d6-2a4e-49f0-ff0e-c4e427a1804c"
      },
      "source": [
        "x[-1], x[-4] # Negative indices count from the end of the list"
      ],
      "execution_count": null,
      "outputs": [
        {
          "output_type": "execute_result",
          "data": {
            "text/plain": [
              "('electricity', 2.4)"
            ]
          },
          "metadata": {
            "tags": []
          },
          "execution_count": 3
        }
      ]
    },
    {
      "cell_type": "code",
      "metadata": {
        "colab": {
          "base_uri": "https://localhost:8080/"
        },
        "id": "nXCDEnUZPO27",
        "outputId": "686ce129-723d-44c7-fa22-9e0786ddcde8"
      },
      "source": [
        "x[-1]='revolution' # Assigning values to a list\n",
        "x"
      ],
      "execution_count": null,
      "outputs": [
        {
          "output_type": "execute_result",
          "data": {
            "text/plain": [
              "['AI', 1, 'is', 2, 'the', 2.4, 'new', True, 'revolution']"
            ]
          },
          "metadata": {
            "tags": []
          },
          "execution_count": 4
        }
      ]
    },
    {
      "cell_type": "code",
      "metadata": {
        "colab": {
          "base_uri": "https://localhost:8080/"
        },
        "id": "WxE8iPEFPZCb",
        "outputId": "264b59f3-3aa8-4ec6-988d-246218381b29"
      },
      "source": [
        "x.append(3) # Add a new element to the end of the list\n",
        "x"
      ],
      "execution_count": null,
      "outputs": [
        {
          "output_type": "execute_result",
          "data": {
            "text/plain": [
              "['AI', 1, 'is', 2, 'the', 2.4, 'new', True, 'revolution', 3]"
            ]
          },
          "metadata": {
            "tags": []
          },
          "execution_count": 5
        }
      ]
    },
    {
      "cell_type": "code",
      "metadata": {
        "colab": {
          "base_uri": "https://localhost:8080/"
        },
        "id": "bfyx86KbPmsT",
        "outputId": "7d212c68-42a6-4f2b-c53c-415562be3fff"
      },
      "source": [
        "x.extend(['We', 'love', 'Python']) # Add multiple new element to the end of the list\n",
        "x"
      ],
      "execution_count": null,
      "outputs": [
        {
          "output_type": "execute_result",
          "data": {
            "text/plain": [
              "['AI',\n",
              " 1,\n",
              " 'is',\n",
              " 2,\n",
              " 'the',\n",
              " 2.4,\n",
              " 'new',\n",
              " True,\n",
              " 'revolution',\n",
              " 3,\n",
              " 'We',\n",
              " 'love',\n",
              " 'Python']"
            ]
          },
          "metadata": {
            "tags": []
          },
          "execution_count": 6
        }
      ]
    },
    {
      "cell_type": "code",
      "metadata": {
        "colab": {
          "base_uri": "https://localhost:8080/"
        },
        "id": "rr5tGT95PwmD",
        "outputId": "676beef7-d475-43b7-ac60-2fec921dfa9c"
      },
      "source": [
        "x.append(['We', 'love', 'Python']) # Add a list to the end of the list\n",
        "x"
      ],
      "execution_count": null,
      "outputs": [
        {
          "output_type": "execute_result",
          "data": {
            "text/plain": [
              "['AI',\n",
              " 1,\n",
              " 'is',\n",
              " 2,\n",
              " 'the',\n",
              " 2.4,\n",
              " 'new',\n",
              " True,\n",
              " 'revolution',\n",
              " 3,\n",
              " 'We',\n",
              " 'love',\n",
              " 'Python',\n",
              " ['We', 'love', 'Python']]"
            ]
          },
          "metadata": {
            "tags": []
          },
          "execution_count": 7
        }
      ]
    },
    {
      "cell_type": "code",
      "metadata": {
        "colab": {
          "base_uri": "https://localhost:8080/",
          "height": 35
        },
        "id": "VPAw_O9gQN-t",
        "outputId": "462bd435-c568-4b54-fe9b-892e7710f2b1"
      },
      "source": [
        "x[-1][-1] # We can also access the list inside the list"
      ],
      "execution_count": null,
      "outputs": [
        {
          "output_type": "execute_result",
          "data": {
            "application/vnd.google.colaboratory.intrinsic+json": {
              "type": "string"
            },
            "text/plain": [
              "'Python'"
            ]
          },
          "metadata": {
            "tags": []
          },
          "execution_count": 9
        }
      ]
    },
    {
      "cell_type": "code",
      "metadata": {
        "colab": {
          "base_uri": "https://localhost:8080/"
        },
        "id": "ornOmS83QWOb",
        "outputId": "42919d0f-16b1-45c4-c593-0ea48cfa8f64"
      },
      "source": [
        "# Deleting values\n",
        "rem = x.pop()\n",
        "rem, x"
      ],
      "execution_count": null,
      "outputs": [
        {
          "output_type": "execute_result",
          "data": {
            "text/plain": [
              "(['We', 'love', 'Python'],\n",
              " ['AI',\n",
              "  1,\n",
              "  'is',\n",
              "  2,\n",
              "  'the',\n",
              "  2.4,\n",
              "  'new',\n",
              "  True,\n",
              "  'revolution',\n",
              "  3,\n",
              "  'We',\n",
              "  'love',\n",
              "  'Python'])"
            ]
          },
          "metadata": {
            "tags": []
          },
          "execution_count": 10
        }
      ]
    },
    {
      "cell_type": "code",
      "metadata": {
        "colab": {
          "base_uri": "https://localhost:8080/"
        },
        "id": "OkjvLmc_bEs6",
        "outputId": "c22e9a6a-7722-44f4-ba4d-839eeb9aa5bc"
      },
      "source": [
        "x"
      ],
      "execution_count": null,
      "outputs": [
        {
          "output_type": "execute_result",
          "data": {
            "text/plain": [
              "['AI',\n",
              " 1,\n",
              " 'is',\n",
              " 2,\n",
              " 'the',\n",
              " 2.4,\n",
              " 'new',\n",
              " True,\n",
              " 'revolution',\n",
              " 3,\n",
              " 'We',\n",
              " 'love',\n",
              " 'Python']"
            ]
          },
          "metadata": {
            "tags": []
          },
          "execution_count": 13
        }
      ]
    },
    {
      "cell_type": "code",
      "metadata": {
        "colab": {
          "base_uri": "https://localhost:8080/"
        },
        "id": "2ihNCU_RQhik",
        "outputId": "b604a3f1-8b6d-4e60-e5d5-edb14534dcc7"
      },
      "source": [
        "x.remove('Python')\n",
        "x"
      ],
      "execution_count": null,
      "outputs": [
        {
          "output_type": "execute_result",
          "data": {
            "text/plain": [
              "['AI', 1, 'is', 2, 'the', 2.4, 'new', True, 'revolution', 3, 'We', 'love']"
            ]
          },
          "metadata": {
            "tags": []
          },
          "execution_count": 14
        }
      ]
    },
    {
      "cell_type": "code",
      "metadata": {
        "colab": {
          "base_uri": "https://localhost:8080/"
        },
        "id": "gQV4Fx_lQol0",
        "outputId": "d59f2c94-212d-4b76-827c-0dbc5d044e5c"
      },
      "source": [
        "del x[-3]\n",
        "x"
      ],
      "execution_count": null,
      "outputs": [
        {
          "output_type": "execute_result",
          "data": {
            "text/plain": [
              "['AI', 1, 'is', 2, 'the', 2.4, 'new', True, 'revolution', 'We', 'love']"
            ]
          },
          "metadata": {
            "tags": []
          },
          "execution_count": 15
        }
      ]
    },
    {
      "cell_type": "code",
      "metadata": {
        "colab": {
          "base_uri": "https://localhost:8080/"
        },
        "id": "gfVu0SmcQ0GM",
        "outputId": "d1d99ad4-2089-4124-d9eb-a741979ee052"
      },
      "source": [
        "# Slicing\n",
        "x[1:5]  # Get a slice from index 0 to 5 (exclusive)"
      ],
      "execution_count": null,
      "outputs": [
        {
          "output_type": "execute_result",
          "data": {
            "text/plain": [
              "[1, 'is', 2, 'the']"
            ]
          },
          "metadata": {
            "tags": []
          },
          "execution_count": 16
        }
      ]
    },
    {
      "cell_type": "code",
      "metadata": {
        "colab": {
          "base_uri": "https://localhost:8080/"
        },
        "id": "EquTAFEMQ_PU",
        "outputId": "1f4d3884-df42-4b4b-a414-6918502ff8fd"
      },
      "source": [
        "x[3:] # Get a slice from index 3 to the end"
      ],
      "execution_count": null,
      "outputs": [
        {
          "output_type": "execute_result",
          "data": {
            "text/plain": [
              "[2, 'the', 2.4, 'new', True, 'revolution', 'We', 'love']"
            ]
          },
          "metadata": {
            "tags": []
          },
          "execution_count": 17
        }
      ]
    },
    {
      "cell_type": "code",
      "metadata": {
        "colab": {
          "base_uri": "https://localhost:8080/"
        },
        "id": "h-21uZ6bRKIk",
        "outputId": "6182291f-74c9-4bf7-ba6e-60074d36891c"
      },
      "source": [
        "x[:3] # Get a slice from the start to index 2 (exclusive)"
      ],
      "execution_count": null,
      "outputs": [
        {
          "output_type": "execute_result",
          "data": {
            "text/plain": [
              "['AI', 1, 'is']"
            ]
          },
          "metadata": {
            "tags": []
          },
          "execution_count": 18
        }
      ]
    },
    {
      "cell_type": "code",
      "metadata": {
        "colab": {
          "base_uri": "https://localhost:8080/"
        },
        "id": "MLfRvc17RTCs",
        "outputId": "5489ac6d-ac61-4c47-c602-be057a66fcff"
      },
      "source": [
        "x[:] # Get a slice of the whole list"
      ],
      "execution_count": null,
      "outputs": [
        {
          "output_type": "execute_result",
          "data": {
            "text/plain": [
              "['AI', 1, 'is', 2, 'the', 2.4, 'new', True, 'revolution', 'We', 'love']"
            ]
          },
          "metadata": {
            "tags": []
          },
          "execution_count": 19
        }
      ]
    },
    {
      "cell_type": "code",
      "metadata": {
        "colab": {
          "base_uri": "https://localhost:8080/"
        },
        "id": "2TlAeMSFcLf2",
        "outputId": "302d0f2b-53f8-4fbb-f1f0-333a5c55ddce"
      },
      "source": [
        "len(x) # prints out the length"
      ],
      "execution_count": null,
      "outputs": [
        {
          "output_type": "execute_result",
          "data": {
            "text/plain": [
              "11"
            ]
          },
          "metadata": {
            "tags": []
          },
          "execution_count": 22
        }
      ]
    },
    {
      "cell_type": "code",
      "metadata": {
        "colab": {
          "base_uri": "https://localhost:8080/"
        },
        "id": "g9zbMEXfRU8s",
        "outputId": "6684fbab-e2c9-44e8-c91c-4b1035d60b06"
      },
      "source": [
        "x[:-3]"
      ],
      "execution_count": null,
      "outputs": [
        {
          "output_type": "execute_result",
          "data": {
            "text/plain": [
              "['AI', 1, 'is', 2, 'the', 2.4, 'new', True]"
            ]
          },
          "metadata": {
            "tags": []
          },
          "execution_count": 21
        }
      ]
    },
    {
      "cell_type": "markdown",
      "metadata": {
        "id": "GwG7fbC1R3l1"
      },
      "source": [
        "## Loops"
      ]
    },
    {
      "cell_type": "code",
      "metadata": {
        "colab": {
          "base_uri": "https://localhost:8080/"
        },
        "id": "ZqG_zo6mSTGU",
        "outputId": "61e644c3-f7ad-4a44-e860-d2acdf6104b5"
      },
      "source": [
        "for element in x:\n",
        "  print(element)"
      ],
      "execution_count": null,
      "outputs": [
        {
          "output_type": "stream",
          "text": [
            "AI\n",
            "1\n",
            "is\n",
            "2\n",
            "the\n",
            "2.4\n",
            "new\n",
            "True\n",
            "revolution\n",
            "We\n",
            "love\n"
          ],
          "name": "stdout"
        }
      ]
    },
    {
      "cell_type": "code",
      "metadata": {
        "colab": {
          "base_uri": "https://localhost:8080/"
        },
        "id": "zZ41EgTwcgid",
        "outputId": "b7c86632-6018-4350-deff-423c38ed1cbb"
      },
      "source": [
        "list(enumerate(x))"
      ],
      "execution_count": null,
      "outputs": [
        {
          "output_type": "execute_result",
          "data": {
            "text/plain": [
              "[(0, 'AI'),\n",
              " (1, 1),\n",
              " (2, 'is'),\n",
              " (3, 2),\n",
              " (4, 'the'),\n",
              " (5, 2.4),\n",
              " (6, 'new'),\n",
              " (7, True),\n",
              " (8, 'revolution'),\n",
              " (9, 'We'),\n",
              " (10, 'love')]"
            ]
          },
          "metadata": {
            "tags": []
          },
          "execution_count": 26
        }
      ]
    },
    {
      "cell_type": "code",
      "metadata": {
        "colab": {
          "base_uri": "https://localhost:8080/"
        },
        "id": "vF6ApNZESbql",
        "outputId": "46220011-ced4-4b71-a78f-6aad9e20e9e2"
      },
      "source": [
        "# If you want access to the index of each element within the body of a loop, use the built-in enumerate function\n",
        "for idx,element in enumerate(x):\n",
        "  print(\"%d %s\" %(idx,element))"
      ],
      "execution_count": null,
      "outputs": [
        {
          "output_type": "stream",
          "text": [
            "0 AI\n",
            "1 1\n",
            "2 is\n",
            "3 2\n",
            "4 the\n",
            "5 2.4\n",
            "6 new\n",
            "7 True\n",
            "8 revolution\n",
            "9 We\n",
            "10 love\n"
          ],
          "name": "stdout"
        }
      ]
    },
    {
      "cell_type": "markdown",
      "metadata": {
        "id": "5uigkhR5Swjk"
      },
      "source": [
        "## List Comprehensions"
      ]
    },
    {
      "cell_type": "code",
      "metadata": {
        "colab": {
          "base_uri": "https://localhost:8080/"
        },
        "id": "EKEwbKFnSzl0",
        "outputId": "8d0ed94a-b6fb-467c-a51a-8156156d592c"
      },
      "source": [
        "import time\n",
        "start = time.time()\n",
        "\n",
        "nums = list(range(0,5))\n",
        "squares = []\n",
        "\n",
        "for x in nums:\n",
        "  squares.append(x**2)\n",
        "\n",
        "done = time.time()\n",
        "\n",
        "elapsed = done - start\n",
        "\n",
        "squares,elapsed"
      ],
      "execution_count": null,
      "outputs": [
        {
          "output_type": "execute_result",
          "data": {
            "text/plain": [
              "0.4535551071166992"
            ]
          },
          "metadata": {
            "tags": []
          },
          "execution_count": 37
        }
      ]
    },
    {
      "cell_type": "code",
      "metadata": {
        "colab": {
          "base_uri": "https://localhost:8080/"
        },
        "id": "PhVmGCGNTOh9",
        "outputId": "96254e35-f3cb-4dbe-f8ae-77f1cedf60d8"
      },
      "source": [
        "# The upper codeblock can be written as following\n",
        "import time\n",
        "start = time.time()\n",
        "\n",
        "nums = list(range(0,5))\n",
        "squares = [x**2 for x in nums]\n",
        "\n",
        "done = time.time()\n",
        "\n",
        "elapsed = done - start\n",
        "\n",
        "squares,elapsed"
      ],
      "execution_count": null,
      "outputs": [
        {
          "output_type": "execute_result",
          "data": {
            "text/plain": [
              "0.3354306221008301"
            ]
          },
          "metadata": {
            "tags": []
          },
          "execution_count": 38
        }
      ]
    },
    {
      "cell_type": "code",
      "metadata": {
        "colab": {
          "base_uri": "https://localhost:8080/"
        },
        "id": "O2x1ExFOTfdu",
        "outputId": "f581e3fb-cae2-406a-9d3e-7c0a6e22cdcc"
      },
      "source": [
        "# Can also contain conditions\n",
        "nums = list(range(0,5))\n",
        "even_squares = [x ** 2 for x in nums if x % 2 == 0]\n",
        "even_squares"
      ],
      "execution_count": null,
      "outputs": [
        {
          "output_type": "execute_result",
          "data": {
            "text/plain": [
              "[0, 4, 16]"
            ]
          },
          "metadata": {
            "tags": []
          },
          "execution_count": 31
        }
      ]
    },
    {
      "cell_type": "markdown",
      "metadata": {
        "id": "4fYlEJVa2gdZ"
      },
      "source": [
        "# Dictionaries\n",
        "\n",
        "A dictionary stores (key, value) pairs"
      ]
    },
    {
      "cell_type": "code",
      "metadata": {
        "colab": {
          "base_uri": "https://localhost:8080/"
        },
        "id": "voQtRgv62i3i",
        "outputId": "8e1afc20-f6a5-43f4-af1a-01b470fdbb52"
      },
      "source": [
        "d = {'cat': 'cute', 'dog': 'furry'}  # Create a new dictionary with some data\n",
        "print(d['cat'])"
      ],
      "execution_count": 19,
      "outputs": [
        {
          "output_type": "stream",
          "text": [
            "cute\n"
          ],
          "name": "stdout"
        }
      ]
    },
    {
      "cell_type": "code",
      "metadata": {
        "colab": {
          "base_uri": "https://localhost:8080/"
        },
        "id": "aik12m9O2sMS",
        "outputId": "c8bf256e-faf8-4f7e-db06-9f8ff4ba1303"
      },
      "source": [
        "print('cat' in d)     # Check if a dictionary has a given key; prints \"True\""
      ],
      "execution_count": 22,
      "outputs": [
        {
          "output_type": "stream",
          "text": [
            "True\n"
          ],
          "name": "stdout"
        }
      ]
    },
    {
      "cell_type": "code",
      "metadata": {
        "colab": {
          "base_uri": "https://localhost:8080/"
        },
        "id": "f7dj9l252xGB",
        "outputId": "806fed8b-b559-41a4-d277-41f4f1e757a9"
      },
      "source": [
        "d['fish'] = 'wet'     # Add element to a dictionary\n",
        "print(d['fish'])\n",
        "d"
      ],
      "execution_count": 23,
      "outputs": [
        {
          "output_type": "stream",
          "text": [
            "wet\n"
          ],
          "name": "stdout"
        },
        {
          "output_type": "execute_result",
          "data": {
            "text/plain": [
              "{'cat': 'cute', 'dog': 'furry', 'fish': 'wet'}"
            ]
          },
          "metadata": {
            "tags": []
          },
          "execution_count": 23
        }
      ]
    },
    {
      "cell_type": "code",
      "metadata": {
        "colab": {
          "base_uri": "https://localhost:8080/"
        },
        "id": "Ld22rj9W4FBm",
        "outputId": "399f95cb-dab3-463f-dc59-92bd6785bbb5"
      },
      "source": [
        "d.update({'bird':'feathery','koala':'sleepy'}) # Add multiple elements to a dictionary\n",
        "d"
      ],
      "execution_count": 24,
      "outputs": [
        {
          "output_type": "execute_result",
          "data": {
            "text/plain": [
              "{'bird': 'feathery',\n",
              " 'cat': 'cute',\n",
              " 'dog': 'furry',\n",
              " 'fish': 'wet',\n",
              " 'koala': 'sleepy'}"
            ]
          },
          "metadata": {
            "tags": []
          },
          "execution_count": 24
        }
      ]
    },
    {
      "cell_type": "code",
      "metadata": {
        "id": "Wxu5x3Nh28ID"
      },
      "source": [
        "# print(d['monkey'])  # KeyError: 'monkey' not a key of d"
      ],
      "execution_count": 29,
      "outputs": []
    },
    {
      "cell_type": "code",
      "metadata": {
        "colab": {
          "base_uri": "https://localhost:8080/"
        },
        "id": "rFo5Es4u3CNK",
        "outputId": "0bb1f4ab-7b94-4f94-9e4e-75d12eb6c08c"
      },
      "source": [
        "print(d.get('monkey', 'none'))  \n",
        "print(d.get('koala', 'none'))    "
      ],
      "execution_count": 32,
      "outputs": [
        {
          "output_type": "stream",
          "text": [
            "none\n",
            "sleepy\n"
          ],
          "name": "stdout"
        }
      ]
    },
    {
      "cell_type": "code",
      "metadata": {
        "colab": {
          "base_uri": "https://localhost:8080/"
        },
        "id": "euCmVzZA3HeK",
        "outputId": "7c56746d-3268-4145-c548-d520d1a2fe3b"
      },
      "source": [
        "del d['fish'] # Delete element\n",
        "print(d.get('fish', 'N/A')) "
      ],
      "execution_count": 33,
      "outputs": [
        {
          "output_type": "stream",
          "text": [
            "N/A\n"
          ],
          "name": "stdout"
        }
      ]
    },
    {
      "cell_type": "code",
      "metadata": {
        "colab": {
          "base_uri": "https://localhost:8080/"
        },
        "id": "usLQ6h5pD5N_",
        "outputId": "1ee5c32b-10ab-4b1f-9ee2-c43236f354f8"
      },
      "source": [
        "d"
      ],
      "execution_count": 34,
      "outputs": [
        {
          "output_type": "execute_result",
          "data": {
            "text/plain": [
              "{'bird': 'feathery', 'cat': 'cute', 'dog': 'furry', 'koala': 'sleepy'}"
            ]
          },
          "metadata": {
            "tags": []
          },
          "execution_count": 34
        }
      ]
    },
    {
      "cell_type": "markdown",
      "metadata": {
        "id": "y5_Wjt6v7xiU"
      },
      "source": [
        "## Loop"
      ]
    },
    {
      "cell_type": "code",
      "metadata": {
        "colab": {
          "base_uri": "https://localhost:8080/"
        },
        "id": "3h3N5cMd7y_N",
        "outputId": "2dd5a307-bad6-437d-94db-339b77f25e55"
      },
      "source": [
        "for animal in d:\n",
        "    attrrib = d[animal]\n",
        "    print('A %s is %s' % (animal, attrib))"
      ],
      "execution_count": 35,
      "outputs": [
        {
          "output_type": "stream",
          "text": [
            "A cat is cute\n",
            "A dog is furry\n",
            "A bird is feathery\n",
            "A koala is sleepy\n"
          ],
          "name": "stdout"
        }
      ]
    },
    {
      "cell_type": "code",
      "metadata": {
        "colab": {
          "base_uri": "https://localhost:8080/"
        },
        "id": "8oAKhgsUEPZq",
        "outputId": "ce52142a-a190-4d36-8d2a-49e02a9caffd"
      },
      "source": [
        "d.items()"
      ],
      "execution_count": 36,
      "outputs": [
        {
          "output_type": "execute_result",
          "data": {
            "text/plain": [
              "dict_items([('cat', 'cute'), ('dog', 'furry'), ('bird', 'feathery'), ('koala', 'sleepy')])"
            ]
          },
          "metadata": {
            "tags": []
          },
          "execution_count": 36
        }
      ]
    },
    {
      "cell_type": "code",
      "metadata": {
        "colab": {
          "base_uri": "https://localhost:8080/"
        },
        "id": "qJG6ynsK-wC0",
        "outputId": "1b0b5ec2-1040-43ad-a468-e90bcfac4237"
      },
      "source": [
        "for animal, attrib in d.items():\n",
        "    print('A %s is %s' % (animal, attrib))"
      ],
      "execution_count": 37,
      "outputs": [
        {
          "output_type": "stream",
          "text": [
            "A cat is cute\n",
            "A dog is furry\n",
            "A bird is feathery\n",
            "A koala is sleepy\n"
          ],
          "name": "stdout"
        }
      ]
    },
    {
      "cell_type": "markdown",
      "metadata": {
        "id": "8CyFoe61-8Wi"
      },
      "source": [
        "## Dictionary Comprehensions"
      ]
    },
    {
      "cell_type": "code",
      "metadata": {
        "colab": {
          "base_uri": "https://localhost:8080/"
        },
        "id": "HVc9L8qn-3Lq",
        "outputId": "5d25487f-efe8-4e03-83a8-a36ea732f30c"
      },
      "source": [
        "nums = list(range(0,20))\n",
        "even_num_squares = {x: x ** 2 for x in nums if x % 2 == 0}\n",
        "even_num_squares"
      ],
      "execution_count": 38,
      "outputs": [
        {
          "output_type": "execute_result",
          "data": {
            "text/plain": [
              "{0: 0, 2: 4, 4: 16, 6: 36, 8: 64, 10: 100, 12: 144, 14: 196, 16: 256, 18: 324}"
            ]
          },
          "metadata": {
            "tags": []
          },
          "execution_count": 38
        }
      ]
    },
    {
      "cell_type": "markdown",
      "metadata": {
        "id": "0omenFVb_MhC"
      },
      "source": [
        "# Sets\n",
        "A set is an unordered collection of distinct elements."
      ]
    },
    {
      "cell_type": "code",
      "metadata": {
        "colab": {
          "base_uri": "https://localhost:8080/"
        },
        "id": "eICZbDuJ_PJF",
        "outputId": "213c5a03-6ca9-4e50-cee7-64d2d2843588"
      },
      "source": [
        "animals = {'cat', 'dog'}\n",
        "print('cat' in animals)   # Check if an element is in a set\n",
        "print('fish' in animals)  # Check if an element is in a set\n",
        "\n",
        "animals.add('fish')       # Add an element to a set\n",
        "print('fish' in animals)  # Check if an element is in a set"
      ],
      "execution_count": 39,
      "outputs": [
        {
          "output_type": "stream",
          "text": [
            "True\n",
            "False\n",
            "True\n"
          ],
          "name": "stdout"
        }
      ]
    },
    {
      "cell_type": "code",
      "metadata": {
        "colab": {
          "base_uri": "https://localhost:8080/"
        },
        "id": "NtkT6ib_FNot",
        "outputId": "57be575a-288a-4e39-829e-f05eb58b0fda"
      },
      "source": [
        "animals"
      ],
      "execution_count": 40,
      "outputs": [
        {
          "output_type": "execute_result",
          "data": {
            "text/plain": [
              "{'cat', 'dog', 'fish'}"
            ]
          },
          "metadata": {
            "tags": []
          },
          "execution_count": 40
        }
      ]
    },
    {
      "cell_type": "code",
      "metadata": {
        "colab": {
          "base_uri": "https://localhost:8080/"
        },
        "id": "8LM2mIug_fC0",
        "outputId": "2d65f04f-4249-4a69-eb3b-3d63949c8fd0"
      },
      "source": [
        "print(len(animals))       # Number of elements in a set\n",
        "animals.add('cat')        # Adding an element that is already in the set does nothing\n",
        "print(len(animals))\n",
        "print(animals)\n",
        "\n",
        "animals.remove('cat')     # Remove an element from a set\n",
        "print(len(animals))\n",
        "print(animals)"
      ],
      "execution_count": 41,
      "outputs": [
        {
          "output_type": "stream",
          "text": [
            "3\n",
            "3\n",
            "{'fish', 'dog', 'cat'}\n",
            "2\n",
            "{'fish', 'dog'}\n"
          ],
          "name": "stdout"
        }
      ]
    },
    {
      "cell_type": "markdown",
      "metadata": {
        "id": "Rv2yaaFpALmm"
      },
      "source": [
        "# Tuples"
      ]
    },
    {
      "cell_type": "code",
      "metadata": {
        "colab": {
          "base_uri": "https://localhost:8080/"
        },
        "id": "6q0Frpa2ANAD",
        "outputId": "b07c55ca-0174-4883-f36a-4dde3294a002"
      },
      "source": [
        "d = {(x, x + 1): x for x in range(10)}\n",
        "d"
      ],
      "execution_count": 42,
      "outputs": [
        {
          "output_type": "execute_result",
          "data": {
            "text/plain": [
              "{(0, 1): 0,\n",
              " (1, 2): 1,\n",
              " (2, 3): 2,\n",
              " (3, 4): 3,\n",
              " (4, 5): 4,\n",
              " (5, 6): 5,\n",
              " (6, 7): 6,\n",
              " (7, 8): 7,\n",
              " (8, 9): 8,\n",
              " (9, 10): 9}"
            ]
          },
          "metadata": {
            "tags": []
          },
          "execution_count": 42
        }
      ]
    },
    {
      "cell_type": "code",
      "metadata": {
        "colab": {
          "base_uri": "https://localhost:8080/"
        },
        "id": "5s184HgHAZuy",
        "outputId": "6c0e5754-fa17-4ea9-d213-03868f59a244"
      },
      "source": [
        "t = (5, 6)        # Create a tuple\n",
        "print(type(t))"
      ],
      "execution_count": 43,
      "outputs": [
        {
          "output_type": "stream",
          "text": [
            "<class 'tuple'>\n"
          ],
          "name": "stdout"
        }
      ]
    },
    {
      "cell_type": "code",
      "metadata": {
        "colab": {
          "base_uri": "https://localhost:8080/"
        },
        "id": "xhT1vXWBAc76",
        "outputId": "75aacf48-7791-4bc3-e95e-9aa03667f156"
      },
      "source": [
        "print(d[t])       # Prints \"5\"\n",
        "print(d[(1, 2)]) "
      ],
      "execution_count": 44,
      "outputs": [
        {
          "output_type": "stream",
          "text": [
            "5\n",
            "1\n"
          ],
          "name": "stdout"
        }
      ]
    }
  ]
}